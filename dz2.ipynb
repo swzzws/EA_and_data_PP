{
 "cells": [
  {
   "cell_type": "code",
   "execution_count": 1,
   "metadata": {},
   "outputs": [],
   "source": [
    "import pandas as pd\n",
    "import numpy as np\n",
    "import matplotlib.pyplot as plt\n",
    "%matplotlib inline\n",
    "import datetime\n",
    "\n",
    "from sklearn.ensemble import RandomForestClassifier\n",
    "from sklearn.tree import DecisionTreeClassifier\n",
    "from sklearn.model_selection import train_test_split\n",
    "from sklearn.metrics import roc_auc_score, roc_curve\n",
    "import xgboost"
   ]
  },
  {
   "cell_type": "markdown",
   "metadata": {},
   "source": [
    "## Rosbank ML Competition"
   ]
  },
  {
   "cell_type": "markdown",
   "metadata": {},
   "source": [
    "Ссылка на соревнование: https://boosters.pro/champ_15"
   ]
  },
  {
   "cell_type": "markdown",
   "metadata": {},
   "source": [
    "Росбанк – часть ведущей международной финансовой группы Societe Generale, банк включен ЦБ РФ в число 11 системно значимых кредитных организаций России. Инновации неотъемлемый процесс работы Росбанка, поэтому активно развивается направленный анализа больших данных."
   ]
  },
  {
   "cell_type": "markdown",
   "metadata": {},
   "source": [
    "- Данные\n",
    "\n",
    "Датасет, который содержит историю транзакций клиентов за 3 месяца льготного использования банковского продукта\n",
    "\n",
    "- Задача\n",
    "\n",
    "Задача бинарной классификации – прогноз оттока клиентов\n",
    "\n",
    "Колонка cl_id содержит вутренний id клиента. Для каждого уникальнго cl_id следует предсказать продолжит ли клиент пользоваться продуктом (target_flag). Значение 0 соответствует отказу, а значение 1 соответствует продолжению использования"
   ]
  },
  {
   "cell_type": "code",
   "execution_count": 2,
   "metadata": {},
   "outputs": [
    {
     "data": {
      "text/html": [
       "<div>\n",
       "<style scoped>\n",
       "    .dataframe tbody tr th:only-of-type {\n",
       "        vertical-align: middle;\n",
       "    }\n",
       "\n",
       "    .dataframe tbody tr th {\n",
       "        vertical-align: top;\n",
       "    }\n",
       "\n",
       "    .dataframe thead th {\n",
       "        text-align: right;\n",
       "    }\n",
       "</style>\n",
       "<table border=\"1\" class=\"dataframe\">\n",
       "  <thead>\n",
       "    <tr style=\"text-align: right;\">\n",
       "      <th></th>\n",
       "      <th>PERIOD</th>\n",
       "      <th>cl_id</th>\n",
       "      <th>MCC</th>\n",
       "      <th>channel_type</th>\n",
       "      <th>currency</th>\n",
       "      <th>TRDATETIME</th>\n",
       "      <th>amount</th>\n",
       "      <th>trx_category</th>\n",
       "      <th>target_flag</th>\n",
       "      <th>target_sum</th>\n",
       "    </tr>\n",
       "  </thead>\n",
       "  <tbody>\n",
       "    <tr>\n",
       "      <th>0</th>\n",
       "      <td>01/10/2017</td>\n",
       "      <td>0</td>\n",
       "      <td>5200</td>\n",
       "      <td>NaN</td>\n",
       "      <td>810</td>\n",
       "      <td>21OCT17:00:00:00</td>\n",
       "      <td>5023.0</td>\n",
       "      <td>POS</td>\n",
       "      <td>0</td>\n",
       "      <td>0.0</td>\n",
       "    </tr>\n",
       "    <tr>\n",
       "      <th>1</th>\n",
       "      <td>01/10/2017</td>\n",
       "      <td>0</td>\n",
       "      <td>6011</td>\n",
       "      <td>NaN</td>\n",
       "      <td>810</td>\n",
       "      <td>12OCT17:12:24:07</td>\n",
       "      <td>20000.0</td>\n",
       "      <td>DEPOSIT</td>\n",
       "      <td>0</td>\n",
       "      <td>0.0</td>\n",
       "    </tr>\n",
       "    <tr>\n",
       "      <th>2</th>\n",
       "      <td>01/12/2017</td>\n",
       "      <td>0</td>\n",
       "      <td>5921</td>\n",
       "      <td>NaN</td>\n",
       "      <td>810</td>\n",
       "      <td>05DEC17:00:00:00</td>\n",
       "      <td>767.0</td>\n",
       "      <td>POS</td>\n",
       "      <td>0</td>\n",
       "      <td>0.0</td>\n",
       "    </tr>\n",
       "    <tr>\n",
       "      <th>3</th>\n",
       "      <td>01/10/2017</td>\n",
       "      <td>0</td>\n",
       "      <td>5411</td>\n",
       "      <td>NaN</td>\n",
       "      <td>810</td>\n",
       "      <td>21OCT17:00:00:00</td>\n",
       "      <td>2031.0</td>\n",
       "      <td>POS</td>\n",
       "      <td>0</td>\n",
       "      <td>0.0</td>\n",
       "    </tr>\n",
       "    <tr>\n",
       "      <th>4</th>\n",
       "      <td>01/10/2017</td>\n",
       "      <td>0</td>\n",
       "      <td>6012</td>\n",
       "      <td>NaN</td>\n",
       "      <td>810</td>\n",
       "      <td>24OCT17:13:14:24</td>\n",
       "      <td>36562.0</td>\n",
       "      <td>C2C_OUT</td>\n",
       "      <td>0</td>\n",
       "      <td>0.0</td>\n",
       "    </tr>\n",
       "  </tbody>\n",
       "</table>\n",
       "</div>"
      ],
      "text/plain": [
       "       PERIOD  cl_id   MCC channel_type  currency        TRDATETIME   amount  \\\n",
       "0  01/10/2017      0  5200          NaN       810  21OCT17:00:00:00   5023.0   \n",
       "1  01/10/2017      0  6011          NaN       810  12OCT17:12:24:07  20000.0   \n",
       "2  01/12/2017      0  5921          NaN       810  05DEC17:00:00:00    767.0   \n",
       "3  01/10/2017      0  5411          NaN       810  21OCT17:00:00:00   2031.0   \n",
       "4  01/10/2017      0  6012          NaN       810  24OCT17:13:14:24  36562.0   \n",
       "\n",
       "  trx_category  target_flag  target_sum  \n",
       "0          POS            0         0.0  \n",
       "1      DEPOSIT            0         0.0  \n",
       "2          POS            0         0.0  \n",
       "3          POS            0         0.0  \n",
       "4      C2C_OUT            0         0.0  "
      ]
     },
     "execution_count": 2,
     "metadata": {},
     "output_type": "execute_result"
    }
   ],
   "source": [
    "raw_df = pd.read_csv('rosbank_train.csv')\n",
    "raw_df.head(5)\n",
    "# target_sum - можно выкинуть, переменная участвует в другой задаче"
   ]
  },
  {
   "cell_type": "code",
   "execution_count": 3,
   "metadata": {},
   "outputs": [
    {
     "name": "stdout",
     "output_type": "stream",
     "text": [
      "<class 'pandas.core.frame.DataFrame'>\n",
      "RangeIndex: 490513 entries, 0 to 490512\n",
      "Data columns (total 10 columns):\n",
      "PERIOD          490513 non-null object\n",
      "cl_id           490513 non-null int64\n",
      "MCC             490513 non-null int64\n",
      "channel_type    487603 non-null object\n",
      "currency        490513 non-null int64\n",
      "TRDATETIME      490513 non-null object\n",
      "amount          490513 non-null float64\n",
      "trx_category    490513 non-null object\n",
      "target_flag     490513 non-null int64\n",
      "target_sum      490513 non-null float64\n",
      "dtypes: float64(2), int64(4), object(4)\n",
      "memory usage: 37.4+ MB\n"
     ]
    }
   ],
   "source": [
    "raw_df.info()"
   ]
  },
  {
   "cell_type": "code",
   "execution_count": 4,
   "metadata": {},
   "outputs": [
    {
     "name": "stdout",
     "output_type": "stream",
     "text": [
      "Total clients:  5000\n"
     ]
    }
   ],
   "source": [
    "print(\"Total clients: \", len(raw_df.cl_id.unique()))"
   ]
  },
  {
   "cell_type": "markdown",
   "metadata": {},
   "source": [
    "Всего 5000 клиентов, случайным образом возьмем 1000 клиентов для тестирования"
   ]
  },
  {
   "cell_type": "code",
   "execution_count": 5,
   "metadata": {},
   "outputs": [],
   "source": [
    "cl_ids_test = np.random.choice(raw_df.cl_id.unique(), size=1000, replace=False)\n",
    "cl_ids_test_set = set(cl_ids_test)"
   ]
  },
  {
   "cell_type": "code",
   "execution_count": 6,
   "metadata": {},
   "outputs": [
    {
     "data": {
      "text/plain": [
       "array([ 5182,  3855,  2980,  9456,  8295,  5327,  6422,  9708,  7301,\n",
       "        9656,  5778,  3478,  4393,  5976,  5657,  3973,  4737,   390,\n",
       "        9365,  8234,  3092,  6624,  9446,  9632,  1794,  4406,  1147,\n",
       "        2055,  2678,  9734,  4123,  1550,    11,  4277,  9880,  9675,\n",
       "         235,  1133,   160,   506,  4400,   477,  6639,  3264,  2179,\n",
       "        1448,  8550,  8064,  2702,  1898,  4486,   402,  8103,  5091,\n",
       "        8766,  9524,  8366,  5231,  7727,  9017,  6278,  9780,  9143,\n",
       "        6683,   373,  2215,  1113,  6818,   325,  5243,  1919,  6079,\n",
       "        2871,  3601,  7690,  2362,  7572,    96,  1430,  4838,  1065,\n",
       "        8983,  4917,  5032,  3424,   756,  6326,  1620,   196,  5055,\n",
       "        9813,  1265,   106,  2883,  5304,  1849,   528,  5237,  6281,\n",
       "        7821,  7840,  5977,  9249, 10095,  2665,  1076,  8260,  8374,\n",
       "        9330,  2188,  8727,  2233,  8892,  3656,  6811,  7486,  4766,\n",
       "        7252,   204,   531,  5601,  4828,  6043,  3527,  4602,  9792,\n",
       "        4296,  5516,  8866,  8821,  5695,  9692,  4132,  5143,  7775,\n",
       "        9359,   504,  8831,  2100,  6913,  6828,  1357,   221,  2430,\n",
       "        6842,  8698,  2549,  8704,  4214,  9534,  8437,  2366,  2309,\n",
       "        7345,  1237,  6763,  5067,  7130,  6855,  6196,  9449,  9241,\n",
       "        2410,  6539,  8568,  5975,  6671,  1710,  8943,   858,  3794,\n",
       "        9856,  8528,  1058,  8352,  8484,  4049,  5078,  3988,  3826,\n",
       "        4447,  2581,  4379,   809,  4337,  4045,  9205,  3114,  7090,\n",
       "         759,  2433,  5494,  4973,  1052,  8141,  1371,  9333,  9467,\n",
       "        1412,  1494,  8736,  4899,  6604,   728,  1671,  5219,  7104,\n",
       "        5108,  1781,  3105,  7068,  4547,  8972,  8084,  9543,  3428,\n",
       "        8948,  7057,  9816,   138,  6455,  3111,  1050,  8085,  2523,\n",
       "         749,  1452,  9593,   198,  2339,  6058,  1340,  5781,  2322,\n",
       "        9651, 10190,  7155,  4349,   340,  8351,  8623,  6394,  2416,\n",
       "        3906,  3290,  2257,  6249,  1740,  2063,  8563,  9029,   406,\n",
       "        7247,  5120,  6766,  3676,  2064,  1355,  5723,  5319,  7022,\n",
       "        1484,  4628,   229,  3421,   638,   772,  1217,  1234,  9689,\n",
       "        7918,  5023,  2536,  6785,  9985,   252,  9863,  9710,  8711,\n",
       "        6323,  4615, 10080,  6299,  4376,  4237,  4909,  9735,  1806,\n",
       "        3742,  3122,  2125,  1024,  8138,  7340,  6548,  1337,  9557,\n",
       "        1478,  9923,  1251,  7634,  1984,  3419,  4652,  9979,  1915,\n",
       "        8624,  2393,  3075,   436,  7297,  1751,  4874,   641,  1302,\n",
       "         424,  4270,  7788,  2121,  4093,  7995,  3667,  4207,   878,\n",
       "        7439,  8344,  8199,  1736,  5782,  7218,  5521,  6405,  6097,\n",
       "        3511,  7035,  4458,  7098,  8703,  8836,  4978,  7825,  1068,\n",
       "        4039,  5278,  7814,  7632,  5948,  9382,  2604,   297,  7738,\n",
       "        2403,    94,  5288,  4863,  8294,  1321,  8051,  7996,  6198,\n",
       "        4665,  4939,  7963,  4961,  4653,  2774,  7836,  1420,   153,\n",
       "        7215,  9371,  7235,  7895,  5626,  1920,  3965,  9801,  1312,\n",
       "        4289,  4695,  9642,  5595,  5388,  4099,  5656,  5589,  2006,\n",
       "        1501,   804,  4444,  7280,  6899,  7360,  5296,  7080,  5738,\n",
       "        5892,  3763,  5758,  9775,  8349,  2241,  3458,  1159,  4295,\n",
       "        9050,  9516,   817,  8033,  5474,  7993,  8651,  7835,  4811,\n",
       "        1079,  6482,  6518,  3467,  6273,   211,  1649,  6987,  2629,\n",
       "        8077,  5743,  9335,  9203,  5422,  8574,    90,  2776,   129,\n",
       "        4012,   886,  1820,    48,  3569,  9077,   250,  5273,  6143,\n",
       "        7916,   124,  6617,  9992,  8303,  6050,  8089,  8414,  2647,\n",
       "        3436,  6797,   925,  8229,  2278,  9870,  8488,  7786,  8458,\n",
       "        8971,  5951,  3494,  6207,  6860,  1225,  9182,  7622,  9233,\n",
       "         700,  5027,  5486,  6829,  2780,  1539,  8539,  6123,  3746,\n",
       "        4551,  9530,  7550,  8091,  4368,  8396,  3387,  9314,  4686,\n",
       "        1531,  3294,  6357,  1250,  9035,  8754,  3830,  3324,  7571,\n",
       "       10096,  9718,  6720,  8009,  3595,  6724,   136,   254,  9687,\n",
       "        1997,  1286,  6378,  6370,  8768,   314,  6601,  1574,  6941,\n",
       "        4537,  9934,   366,  6443,  9102,    59,   494,  6385,  3172,\n",
       "        9658,  7031,  8957, 10088,  9001,  6616,  2490,  2071,  3901,\n",
       "         132,  3435,  5129,   521,  8798,  4637,  3112,  3887,  2357,\n",
       "        4344,  6407,  4716,  4072,   622,  3875,  3120,  7856,  1831,\n",
       "        8150,  7528,  3854,  1545,  8650,  6764,  6481,  1194,  1110,\n",
       "        5156,  9328,  5448,   729,  7129,   959,  2508,  4117,  2850,\n",
       "         395, 10215,  2302,  1852,  3016,  8842,  6159,   443,  5884,\n",
       "        8372,  1407,  9378,  2448,   444,  8092,  7109,  3707,  9339,\n",
       "        9007,  9799,  9925,  1303,  2377,  5177,  9876,  8154,  6863,\n",
       "        5724,  4677,  6252,  8862,  9728,  1799,  5507,  1257,  7726,\n",
       "        6978,  3317,  1441,  4152,  5555,  7905,  6806,  3918,  4952,\n",
       "         676,  2682,  8172,  6684,  7330,  7258,  9786,  8048,  2916,\n",
       "        1290,   315,  6013,  5897,  8461,  8408,  2646,  6397,  7451,\n",
       "        5487,  6753,  2458,  4206,  7900,  2976,   857,  2784,   614,\n",
       "        8575,  5790,  8099,  6892,  9051,  1443,  2114,  7227,  6489,\n",
       "         532,  7721,  3935,  6885,  5552,  1647,  5132,  2113,  8673,\n",
       "        4298,  3829,  9196,  4743,  4931,  5629,  3529,  1570,  3502,\n",
       "         997,  3726,  3404,  2320,  5532,   702,  6983,   558,  4395,\n",
       "         273,  4051,  4611,  1012,  6519,  6609,  9869,  9379,  7115,\n",
       "        7523,  7829,  2436,  8605,  6200,  8909,  2736,  3300,  1662,\n",
       "        9818,  2177,  1216,  1816,   295,  9353,  6917,  7698,  8310,\n",
       "        6041,  7870,  2234,  6056,  5614,  9796,  5904,  5262,  5317,\n",
       "        6409,  3319,    24,  5280,  9609,  3373,  1401,  5873,  1958,\n",
       "        6919,  7539,  6847,  4839,    70,  1100,  2900,  3652,  4500,\n",
       "         735,  3783,  3123,  1837,  3155,  4804,  3212,    54, 10164,\n",
       "        2876,  9429,  9368,  8960,   169,  3861,  7830,  6488,   359,\n",
       "        8786,  8274,   654,  4088,  4265,  5650,  1128,  8421,  2484,\n",
       "        2622,  8186,  5432,    98,  9232,  7891,   247,  4340,  5664,\n",
       "        8409,  4222,  8119,  9704,  9400,  6653,  2856,   358,    69,\n",
       "        3408,  2468,  7929,  4783,  2001,  2601,  1819,  7605,  5495,\n",
       "        7618,  3723,  8367,  7647,  4370,  8904,  3423,  4347,   601,\n",
       "        5030,  7815,   719,  6155,  3096,  1236,  5309,   671,   207,\n",
       "        2106,  3148,  4948,  7614,  1875,  4446,   929,  3191,  1122,\n",
       "        1035,  5995,  1832,  5804,  2493,   697,  3079,  6341,  1610,\n",
       "        1836,  6130,  7548,  4541,  9831,  7733,  1422,  4061,  3070,\n",
       "        6229,  3503,  8643,  7072,  4280,  1172,  9402,  5246,  6486,\n",
       "        6706,  2809,  2261,  8331,  9779,  4100,  2279,  2457,    50,\n",
       "        7717,  3450,   299,  7791,  6742,   480,  7862,  6059,  6178,\n",
       "         163,  1787,  1902, 10131, 10214,  7051,  4789,  3257,  5685,\n",
       "        3769,  7774,  2143,  6294,  7797,  7358,  4884,  9264,  2832,\n",
       "        6503,  8683,  9134,  4683,  5809,  6542,  4392,  2674,  7397,\n",
       "        8678,  5558,  2729,  7930,  7850,  3720,  2230,   141,  8039,\n",
       "        3958,  1755,  1256,  4172,  6165,  3205,  4176,  1800,  3447,\n",
       "        3961,  9434, 10129,  5684,  2506,  8710,  6908,  9395,  8072,\n",
       "        4464,   968,  6663,  7501,  7452,  3688,   483,  2306,  3811,\n",
       "         718,  7544,  6839,  7063,  9172,  6965,  7071,  2333,  1173,\n",
       "        6607,  6321,  6234,  2496,   826,  6449,  1711,  6931,  8412,\n",
       "        2693,  8809,  6613,   237,  4738,  5117,  5235,  1449,  4023,\n",
       "        1669,  9620,  4578,  6574,  5299,  5890,  3768,  6801,  3539,\n",
       "        9422,  3198,  2611,  8977,  5324,  8271,  8959,   450,  1309,\n",
       "        5846,  9212,   787,   655,  9932,  2947,  5398,  5969,  1572,\n",
       "        8493,  5848,  6389,  4595,  3116,  3130,  2462,  1132,  8719,\n",
       "        4148,  6399,  3338,   255,  9327,  7931,  9384,  9903,  1263,\n",
       "        9408,  9242,  8612,   887,  7435,  3206,  7070,  5239,  6213,\n",
       "        5847], dtype=int64)"
      ]
     },
     "execution_count": 6,
     "metadata": {},
     "output_type": "execute_result"
    }
   ],
   "source": [
    "cl_ids_test"
   ]
  },
  {
   "cell_type": "markdown",
   "metadata": {},
   "source": [
    "## Домашняя работа\n",
    "\n",
    "1. Наборы данных вида Transactions (несколько транзакций на одного клиента) трансформировать в таблицу, где cl_id будут уникальными (соответственно 4000 строк в train и 1000 строк в test\n",
    "2. Для каждого cl_id будет уникальное целевое событие target_flag, а также уникальный канал привлечения клиента channel_type (клиент привлекается лишь однажды и с самого начала его записи присваивается значение канала привлечения)\n",
    "3. При агрегации (*pandas.DataFrame.groupby*) по cl_id (или по связке cl_id, channel_type, target_flag) необходимо создавать производные фичи, идеи для таких фичей могут быть следующими:\n",
    "\n",
    "    - общая сумма транзакций по каждой из trx_category\n",
    "    - общая сумма транзакции по основным вылютам (напр. выделить рубли, доллары и евро - предположительно, это будут самые крупные категории)\n",
    "    - общая сумма транзакций по категориям MCC кодов (например, выбрать основные/популярные MCC коды). ВНИМАНИ! Некоторые MCC коды из train могут быть не представлены в test. Про MCC коды в целом: http://www.banki.ru/wikibank/mcc-kod/; Справочник MCC кодов: https://mcc-codes.ru/code; Про некоторые категории кэшбека Росбанка: https://mcc-codes.ru/card/rosbank-sverkh-plus;\n",
    "    - возможные агрегации по времени суток и дням недели - траты в выходные (праздники) или будни, в ночное время или в рабочее и т.д.\n",
    "4. **Обязательная часть**: провести первичный анализ данных - посмотреть распределения признаков, выделить самые популярные MCC, помотреть активность клиентов по дням недели/времени, какие категории транзакции (trx_category) наиболее популярны и т.д. Получить инсайты, которые в дальнейшем помогут вам правильно подготовить фичи\n",
    "5. **Дополнительная часть**: с отобранными фичами и полученными компонентами обучить модель (тип алгоритма на свой вкус, можно начать с линейной) и померить качество на локальном тестовом наборе данных (локальная валидация), который создается в этом ноутбуке. **Метрика оценки качества - ROC AUC**(https://en.wikipedia.org/wiki/Receiver_operating_characteristic)\n",
    "6. Задания принимаются в виде ноутбука с кодов/картинками выполненной обязательной части\n",
    "\n",
    "При возникновении вопросов и для отправки домашнего задания - ks.gusev@physics.msu.ru\n",
    "    "
   ]
  },
  {
   "cell_type": "markdown",
   "metadata": {},
   "source": [
    "## Практика"
   ]
  },
  {
   "cell_type": "code",
   "execution_count": 7,
   "metadata": {},
   "outputs": [
    {
     "data": {
      "text/html": [
       "<div>\n",
       "<style scoped>\n",
       "    .dataframe tbody tr th:only-of-type {\n",
       "        vertical-align: middle;\n",
       "    }\n",
       "\n",
       "    .dataframe tbody tr th {\n",
       "        vertical-align: top;\n",
       "    }\n",
       "\n",
       "    .dataframe thead th {\n",
       "        text-align: right;\n",
       "    }\n",
       "</style>\n",
       "<table border=\"1\" class=\"dataframe\">\n",
       "  <thead>\n",
       "    <tr style=\"text-align: right;\">\n",
       "      <th></th>\n",
       "      <th>cl_id</th>\n",
       "      <th>MCC</th>\n",
       "      <th>currency</th>\n",
       "      <th>amount</th>\n",
       "      <th>target_flag</th>\n",
       "      <th>target_sum</th>\n",
       "    </tr>\n",
       "  </thead>\n",
       "  <tbody>\n",
       "    <tr>\n",
       "      <th>count</th>\n",
       "      <td>490513.000000</td>\n",
       "      <td>490513.000000</td>\n",
       "      <td>490513.000000</td>\n",
       "      <td>4.905130e+05</td>\n",
       "      <td>490513.000000</td>\n",
       "      <td>4.905130e+05</td>\n",
       "    </tr>\n",
       "    <tr>\n",
       "      <th>mean</th>\n",
       "      <td>4802.127361</td>\n",
       "      <td>5699.783822</td>\n",
       "      <td>810.601854</td>\n",
       "      <td>5.723594e+03</td>\n",
       "      <td>0.652588</td>\n",
       "      <td>1.627345e+05</td>\n",
       "    </tr>\n",
       "    <tr>\n",
       "      <th>std</th>\n",
       "      <td>2986.492835</td>\n",
       "      <td>662.933380</td>\n",
       "      <td>38.223123</td>\n",
       "      <td>7.703763e+04</td>\n",
       "      <td>0.476148</td>\n",
       "      <td>1.474097e+06</td>\n",
       "    </tr>\n",
       "    <tr>\n",
       "      <th>min</th>\n",
       "      <td>0.000000</td>\n",
       "      <td>742.000000</td>\n",
       "      <td>32.000000</td>\n",
       "      <td>4.000000e-02</td>\n",
       "      <td>0.000000</td>\n",
       "      <td>0.000000e+00</td>\n",
       "    </tr>\n",
       "    <tr>\n",
       "      <th>25%</th>\n",
       "      <td>2193.000000</td>\n",
       "      <td>5411.000000</td>\n",
       "      <td>810.000000</td>\n",
       "      <td>2.240000e+02</td>\n",
       "      <td>0.000000</td>\n",
       "      <td>0.000000e+00</td>\n",
       "    </tr>\n",
       "    <tr>\n",
       "      <th>50%</th>\n",
       "      <td>4576.000000</td>\n",
       "      <td>5661.000000</td>\n",
       "      <td>810.000000</td>\n",
       "      <td>6.240000e+02</td>\n",
       "      <td>1.000000</td>\n",
       "      <td>2.491009e+04</td>\n",
       "    </tr>\n",
       "    <tr>\n",
       "      <th>75%</th>\n",
       "      <td>7390.000000</td>\n",
       "      <td>5941.000000</td>\n",
       "      <td>810.000000</td>\n",
       "      <td>2.176000e+03</td>\n",
       "      <td>1.000000</td>\n",
       "      <td>1.516193e+05</td>\n",
       "    </tr>\n",
       "    <tr>\n",
       "      <th>max</th>\n",
       "      <td>10215.000000</td>\n",
       "      <td>9405.000000</td>\n",
       "      <td>986.000000</td>\n",
       "      <td>3.583500e+07</td>\n",
       "      <td>1.000000</td>\n",
       "      <td>4.606578e+07</td>\n",
       "    </tr>\n",
       "  </tbody>\n",
       "</table>\n",
       "</div>"
      ],
      "text/plain": [
       "               cl_id            MCC       currency        amount  \\\n",
       "count  490513.000000  490513.000000  490513.000000  4.905130e+05   \n",
       "mean     4802.127361    5699.783822     810.601854  5.723594e+03   \n",
       "std      2986.492835     662.933380      38.223123  7.703763e+04   \n",
       "min         0.000000     742.000000      32.000000  4.000000e-02   \n",
       "25%      2193.000000    5411.000000     810.000000  2.240000e+02   \n",
       "50%      4576.000000    5661.000000     810.000000  6.240000e+02   \n",
       "75%      7390.000000    5941.000000     810.000000  2.176000e+03   \n",
       "max     10215.000000    9405.000000     986.000000  3.583500e+07   \n",
       "\n",
       "         target_flag    target_sum  \n",
       "count  490513.000000  4.905130e+05  \n",
       "mean        0.652588  1.627345e+05  \n",
       "std         0.476148  1.474097e+06  \n",
       "min         0.000000  0.000000e+00  \n",
       "25%         0.000000  0.000000e+00  \n",
       "50%         1.000000  2.491009e+04  \n",
       "75%         1.000000  1.516193e+05  \n",
       "max         1.000000  4.606578e+07  "
      ]
     },
     "execution_count": 7,
     "metadata": {},
     "output_type": "execute_result"
    }
   ],
   "source": [
    "raw_df.describe()"
   ]
  },
  {
   "cell_type": "code",
   "execution_count": 8,
   "metadata": {},
   "outputs": [
    {
     "data": {
      "text/html": [
       "<div>\n",
       "<style scoped>\n",
       "    .dataframe tbody tr th:only-of-type {\n",
       "        vertical-align: middle;\n",
       "    }\n",
       "\n",
       "    .dataframe tbody tr th {\n",
       "        vertical-align: top;\n",
       "    }\n",
       "\n",
       "    .dataframe thead th {\n",
       "        text-align: right;\n",
       "    }\n",
       "</style>\n",
       "<table border=\"1\" class=\"dataframe\">\n",
       "  <thead>\n",
       "    <tr style=\"text-align: right;\">\n",
       "      <th></th>\n",
       "      <th>PERIOD</th>\n",
       "      <th>channel_type</th>\n",
       "      <th>TRDATETIME</th>\n",
       "      <th>trx_category</th>\n",
       "    </tr>\n",
       "  </thead>\n",
       "  <tbody>\n",
       "    <tr>\n",
       "      <th>count</th>\n",
       "      <td>490513</td>\n",
       "      <td>487603</td>\n",
       "      <td>490513</td>\n",
       "      <td>490513</td>\n",
       "    </tr>\n",
       "    <tr>\n",
       "      <th>unique</th>\n",
       "      <td>19</td>\n",
       "      <td>5</td>\n",
       "      <td>58113</td>\n",
       "      <td>10</td>\n",
       "    </tr>\n",
       "    <tr>\n",
       "      <th>top</th>\n",
       "      <td>01/07/2017</td>\n",
       "      <td>type1</td>\n",
       "      <td>23JUN17:00:00:00</td>\n",
       "      <td>POS</td>\n",
       "    </tr>\n",
       "    <tr>\n",
       "      <th>freq</th>\n",
       "      <td>55757</td>\n",
       "      <td>299247</td>\n",
       "      <td>1971</td>\n",
       "      <td>416425</td>\n",
       "    </tr>\n",
       "  </tbody>\n",
       "</table>\n",
       "</div>"
      ],
      "text/plain": [
       "            PERIOD channel_type        TRDATETIME trx_category\n",
       "count       490513       487603            490513       490513\n",
       "unique          19            5             58113           10\n",
       "top     01/07/2017        type1  23JUN17:00:00:00          POS\n",
       "freq         55757       299247              1971       416425"
      ]
     },
     "execution_count": 8,
     "metadata": {},
     "output_type": "execute_result"
    }
   ],
   "source": [
    "# посмотрим на статистики для категориальных значений \n",
    "raw_df.describe(include=['object'])"
   ]
  },
  {
   "cell_type": "code",
   "execution_count": 9,
   "metadata": {},
   "outputs": [
    {
     "name": "stdout",
     "output_type": "stream",
     "text": [
      "mode 0    5411\n",
      "dtype: int64\n",
      "unique 344\n"
     ]
    }
   ],
   "source": [
    "# посмотрим на MCC как на категорию\n",
    "print('mode', raw_df['MCC'].mode())\n",
    "\n",
    "print('unique', len(raw_df.MCC.unique()))\n",
    "\n",
    "# это категория \tБакалейные магазины, супермаркеты\n",
    "\n",
    "#Источник: https://mcc-codes.ru/code"
   ]
  },
  {
   "cell_type": "code",
   "execution_count": 10,
   "metadata": {},
   "outputs": [
    {
     "name": "stdout",
     "output_type": "stream",
     "text": [
      "mode 0    810\n",
      "dtype: int64\n",
      "unique 59\n"
     ]
    }
   ],
   "source": [
    "# посмотрим на currency как на категорию\n",
    "print('mode', raw_df['currency'].mode())\n",
    "\n",
    "print('unique', len(raw_df.currency.unique()))\n",
    "\n",
    "# 810 - это рубль"
   ]
  },
  {
   "cell_type": "code",
   "execution_count": 11,
   "metadata": {},
   "outputs": [
    {
     "data": {
      "text/plain": [
       "array([[<matplotlib.axes._subplots.AxesSubplot object at 0x0000022B00025CF8>,\n",
       "        <matplotlib.axes._subplots.AxesSubplot object at 0x0000022B0028FF28>],\n",
       "       [<matplotlib.axes._subplots.AxesSubplot object at 0x0000022B000651D0>,\n",
       "        <matplotlib.axes._subplots.AxesSubplot object at 0x0000022B0008D438>],\n",
       "       [<matplotlib.axes._subplots.AxesSubplot object at 0x0000022B000B56A0>,\n",
       "        <matplotlib.axes._subplots.AxesSubplot object at 0x0000022B000E08D0>]],\n",
       "      dtype=object)"
      ]
     },
     "execution_count": 11,
     "metadata": {},
     "output_type": "execute_result"
    },
    {
     "data": {
      "image/png": "[encoded data removed]",
      "text/plain": [
       "<Figure size 1080x936 with 6 Axes>"
      ]
     },
     "metadata": {
      "needs_background": "light"
     },
     "output_type": "display_data"
    }
   ],
   "source": [
    "\n",
    "raw_df.hist(bins=100, figsize=(15,13))"
   ]
  },
  {
   "cell_type": "code",
   "execution_count": 12,
   "metadata": {},
   "outputs": [],
   "source": [
    "import seaborn as sns"
   ]
  },
  {
   "cell_type": "code",
   "execution_count": 13,
   "metadata": {},
   "outputs": [
    {
     "data": {
      "image/png": "[encoded data removed]",
      "text/plain": [
       "<Figure size 720x288 with 2 Axes>"
      ]
     },
     "metadata": {
      "needs_background": "light"
     },
     "output_type": "display_data"
    }
   ],
   "source": [
    "sns.heatmap(raw_df.corr(),annot=True,cmap='RdYlGn',linewidths=0.2) #data.corr()-->correlation matrix\n",
    "fig=plt.gcf()\n",
    "fig.set_size_inches(10,4)\n",
    "plt.show()"
   ]
  },
  {
   "cell_type": "code",
   "execution_count": null,
   "metadata": {},
   "outputs": [],
   "source": [
    "# есть небольшая отриц корр по cl_id. \n",
    "# т.к. cl_id присваивается в хронологиеском порядке.\n",
    "# то, что клиент с нами больше 3-х месяцев неизвестно для недавно подключившихся клиентов\n",
    "# отсюда и корреляция"
   ]
  },
  {
   "cell_type": "code",
   "execution_count": 14,
   "metadata": {},
   "outputs": [],
   "source": [
    "def missingdata(raw_df):\n",
    "    '''\n",
    "    считаем кол-во и долю пропущеных значений\n",
    "    '''\n",
    "    total = raw_df.isnull().sum().sort_values(ascending = False)\n",
    "    percent = (raw_df.isnull().sum()/raw_df.isnull().count()*100).sort_values(ascending = False)\n",
    "    ms=pd.concat([total, percent], axis=1, keys=['Total', 'Percent'])\n",
    "    ms= ms[ms[\"Percent\"] > 0]\n",
    "    return ms"
   ]
  },
  {
   "cell_type": "code",
   "execution_count": 15,
   "metadata": {},
   "outputs": [
    {
     "data": {
      "text/html": [
       "<div>\n",
       "<style scoped>\n",
       "    .dataframe tbody tr th:only-of-type {\n",
       "        vertical-align: middle;\n",
       "    }\n",
       "\n",
       "    .dataframe tbody tr th {\n",
       "        vertical-align: top;\n",
       "    }\n",
       "\n",
       "    .dataframe thead th {\n",
       "        text-align: right;\n",
       "    }\n",
       "</style>\n",
       "<table border=\"1\" class=\"dataframe\">\n",
       "  <thead>\n",
       "    <tr style=\"text-align: right;\">\n",
       "      <th></th>\n",
       "      <th>Total</th>\n",
       "      <th>Percent</th>\n",
       "    </tr>\n",
       "  </thead>\n",
       "  <tbody>\n",
       "    <tr>\n",
       "      <th>channel_type</th>\n",
       "      <td>2910</td>\n",
       "      <td>0.593256</td>\n",
       "    </tr>\n",
       "  </tbody>\n",
       "</table>\n",
       "</div>"
      ],
      "text/plain": [
       "              Total   Percent\n",
       "channel_type   2910  0.593256"
      ]
     },
     "execution_count": 15,
     "metadata": {},
     "output_type": "execute_result"
    }
   ],
   "source": [
    "missingdata(raw_df)"
   ]
  },
  {
   "cell_type": "code",
   "execution_count": 16,
   "metadata": {},
   "outputs": [
    {
     "name": "stdout",
     "output_type": "stream",
     "text": [
      "  channel_type  target_flag    percent\n",
      "0        type1       299247  61.371033\n",
      "1        type2       175013  35.892519\n",
      "2        type3         3280   0.672678\n",
      "3        type4         4476   0.917960\n",
      "4        type5         5587   1.145809\n"
     ]
    }
   ],
   "source": [
    "t_channel = raw_df.groupby(['channel_type']).count()['target_flag'].reset_index()\n",
    "\n",
    "t_channel['percent'] = t_channel['target_flag'] / raw_df['channel_type'].count() *100\n",
    "\n",
    "print(t_channel)"
   ]
  },
  {
   "cell_type": "code",
   "execution_count": 17,
   "metadata": {},
   "outputs": [
    {
     "data": {
      "text/plain": [
       "target_flag\n",
       "0    1627\n",
       "1    1283\n",
       "Name: currency, dtype: int64"
      ]
     },
     "execution_count": 17,
     "metadata": {},
     "output_type": "execute_result"
    }
   ],
   "source": [
    "# смотрим как распределены пропуски по целевой переменной\n",
    "raw_df[raw_df.channel_type.isnull()].groupby('target_flag').count()['currency']\n",
    "\n",
    "# примерно 50/50"
   ]
  },
  {
   "cell_type": "code",
   "execution_count": 18,
   "metadata": {},
   "outputs": [
    {
     "data": {
      "text/plain": [
       "channel_type  target_flag\n",
       "type1         0              145779\n",
       "              1              153468\n",
       "type2         0               19717\n",
       "              1              155296\n",
       "type3         0                1017\n",
       "              1                2263\n",
       "type4         0                1026\n",
       "              1                3450\n",
       "type5         0                1244\n",
       "              1                4343\n",
       "Name: currency, dtype: int64"
      ]
     },
     "execution_count": 18,
     "metadata": {},
     "output_type": "execute_result"
    }
   ],
   "source": [
    "channel_target = raw_df.groupby(['channel_type', 'target_flag']).count()['currency']\n",
    "channel_target"
   ]
  },
  {
   "cell_type": "code",
   "execution_count": 19,
   "metadata": {},
   "outputs": [
    {
     "data": {
      "text/plain": [
       "<matplotlib.axes._subplots.AxesSubplot at 0x22b00130128>"
      ]
     },
     "execution_count": 19,
     "metadata": {},
     "output_type": "execute_result"
    },
    {
     "data": {
      "image/png": "[encoded data removed]",
      "text/plain": [
       "<Figure size 432x288 with 1 Axes>"
      ]
     },
     "metadata": {
      "needs_background": "light"
     },
     "output_type": "display_data"
    }
   ],
   "source": [
    "# видим, что для type1 кол-во отказов к продолжению 50/50\n",
    "channel_target.unstack().plot(kind='bar')"
   ]
  },
  {
   "cell_type": "markdown",
   "metadata": {},
   "source": [
    "#### type1 это так же мода, поэтому пропуски можно заполнить этим значением"
   ]
  },
  {
   "cell_type": "code",
   "execution_count": 20,
   "metadata": {},
   "outputs": [],
   "source": [
    "raw_df['channel_type'].fillna(raw_df['channel_type'].mode()[0], inplace = True)"
   ]
  },
  {
   "cell_type": "code",
   "execution_count": 21,
   "metadata": {},
   "outputs": [
    {
     "data": {
      "text/html": [
       "<div>\n",
       "<style scoped>\n",
       "    .dataframe tbody tr th:only-of-type {\n",
       "        vertical-align: middle;\n",
       "    }\n",
       "\n",
       "    .dataframe tbody tr th {\n",
       "        vertical-align: top;\n",
       "    }\n",
       "\n",
       "    .dataframe thead th {\n",
       "        text-align: right;\n",
       "    }\n",
       "</style>\n",
       "<table border=\"1\" class=\"dataframe\">\n",
       "  <thead>\n",
       "    <tr style=\"text-align: right;\">\n",
       "      <th></th>\n",
       "      <th>Total</th>\n",
       "      <th>Percent</th>\n",
       "    </tr>\n",
       "  </thead>\n",
       "  <tbody>\n",
       "  </tbody>\n",
       "</table>\n",
       "</div>"
      ],
      "text/plain": [
       "Empty DataFrame\n",
       "Columns: [Total, Percent]\n",
       "Index: []"
      ]
     },
     "execution_count": 21,
     "metadata": {},
     "output_type": "execute_result"
    }
   ],
   "source": [
    "missingdata(raw_df)"
   ]
  },
  {
   "cell_type": "markdown",
   "metadata": {},
   "source": [
    "#### type2 имеет значительно меньшее кол-во отказов по сравнению с type1.\n",
    "Принадлежность к type2 снижает вероятность отказа по сравнению к 1\n",
    "также видно 3 группы по частоте появления type: type1, type2 и type3-5\n",
    "Преобразуем данный категориальный атрибут в частотный"
   ]
  },
  {
   "cell_type": "code",
   "execution_count": 22,
   "metadata": {},
   "outputs": [],
   "source": [
    "prob_type = (raw_df[raw_df['target_flag'] == 1]['channel_type'].value_counts())/(raw_df['channel_type'].value_counts())"
   ]
  },
  {
   "cell_type": "code",
   "execution_count": 23,
   "metadata": {},
   "outputs": [
    {
     "data": {
      "text/plain": [
       "type1    0.512154\n",
       "type2    0.887340\n",
       "type3    0.689939\n",
       "type4    0.770777\n",
       "type5    0.777340\n",
       "Name: channel_type, dtype: float64"
      ]
     },
     "execution_count": 23,
     "metadata": {},
     "output_type": "execute_result"
    }
   ],
   "source": [
    "prob_type"
   ]
  },
  {
   "cell_type": "code",
   "execution_count": 24,
   "metadata": {},
   "outputs": [],
   "source": [
    "def channel_cat(data):\n",
    "    '''\n",
    "    заполняем значения popular MCC\n",
    "    '''\n",
    "    if data == 'type1':\n",
    "        return prob_type[0]\n",
    "    elif data == 'type2': \n",
    "        return prob_type[1]\n",
    "    elif data == 'type3':\n",
    "        return prob_type[2]\n",
    "    elif data == 'type4':\n",
    "        return prob_type[3]\n",
    "    elif data == 'type5':\n",
    "        return prob_type[4]\n",
    "    else:\n",
    "        return 0"
   ]
  },
  {
   "cell_type": "code",
   "execution_count": 25,
   "metadata": {},
   "outputs": [],
   "source": [
    "raw_df['channel_type_new'] = raw_df['channel_type'].apply(channel_cat)"
   ]
  },
  {
   "cell_type": "code",
   "execution_count": 26,
   "metadata": {},
   "outputs": [
    {
     "data": {
      "text/html": [
       "<div>\n",
       "<style scoped>\n",
       "    .dataframe tbody tr th:only-of-type {\n",
       "        vertical-align: middle;\n",
       "    }\n",
       "\n",
       "    .dataframe tbody tr th {\n",
       "        vertical-align: top;\n",
       "    }\n",
       "\n",
       "    .dataframe thead th {\n",
       "        text-align: right;\n",
       "    }\n",
       "</style>\n",
       "<table border=\"1\" class=\"dataframe\">\n",
       "  <thead>\n",
       "    <tr style=\"text-align: right;\">\n",
       "      <th></th>\n",
       "      <th>PERIOD</th>\n",
       "      <th>cl_id</th>\n",
       "      <th>MCC</th>\n",
       "      <th>channel_type</th>\n",
       "      <th>currency</th>\n",
       "      <th>TRDATETIME</th>\n",
       "      <th>amount</th>\n",
       "      <th>trx_category</th>\n",
       "      <th>target_flag</th>\n",
       "      <th>target_sum</th>\n",
       "      <th>channel_type_new</th>\n",
       "    </tr>\n",
       "  </thead>\n",
       "  <tbody>\n",
       "    <tr>\n",
       "      <th>0</th>\n",
       "      <td>01/10/2017</td>\n",
       "      <td>0</td>\n",
       "      <td>5200</td>\n",
       "      <td>type1</td>\n",
       "      <td>810</td>\n",
       "      <td>21OCT17:00:00:00</td>\n",
       "      <td>5023.0</td>\n",
       "      <td>POS</td>\n",
       "      <td>0</td>\n",
       "      <td>0.0</td>\n",
       "      <td>0.512154</td>\n",
       "    </tr>\n",
       "    <tr>\n",
       "      <th>1</th>\n",
       "      <td>01/10/2017</td>\n",
       "      <td>0</td>\n",
       "      <td>6011</td>\n",
       "      <td>type1</td>\n",
       "      <td>810</td>\n",
       "      <td>12OCT17:12:24:07</td>\n",
       "      <td>20000.0</td>\n",
       "      <td>DEPOSIT</td>\n",
       "      <td>0</td>\n",
       "      <td>0.0</td>\n",
       "      <td>0.512154</td>\n",
       "    </tr>\n",
       "    <tr>\n",
       "      <th>2</th>\n",
       "      <td>01/12/2017</td>\n",
       "      <td>0</td>\n",
       "      <td>5921</td>\n",
       "      <td>type1</td>\n",
       "      <td>810</td>\n",
       "      <td>05DEC17:00:00:00</td>\n",
       "      <td>767.0</td>\n",
       "      <td>POS</td>\n",
       "      <td>0</td>\n",
       "      <td>0.0</td>\n",
       "      <td>0.512154</td>\n",
       "    </tr>\n",
       "    <tr>\n",
       "      <th>3</th>\n",
       "      <td>01/10/2017</td>\n",
       "      <td>0</td>\n",
       "      <td>5411</td>\n",
       "      <td>type1</td>\n",
       "      <td>810</td>\n",
       "      <td>21OCT17:00:00:00</td>\n",
       "      <td>2031.0</td>\n",
       "      <td>POS</td>\n",
       "      <td>0</td>\n",
       "      <td>0.0</td>\n",
       "      <td>0.512154</td>\n",
       "    </tr>\n",
       "    <tr>\n",
       "      <th>4</th>\n",
       "      <td>01/10/2017</td>\n",
       "      <td>0</td>\n",
       "      <td>6012</td>\n",
       "      <td>type1</td>\n",
       "      <td>810</td>\n",
       "      <td>24OCT17:13:14:24</td>\n",
       "      <td>36562.0</td>\n",
       "      <td>C2C_OUT</td>\n",
       "      <td>0</td>\n",
       "      <td>0.0</td>\n",
       "      <td>0.512154</td>\n",
       "    </tr>\n",
       "  </tbody>\n",
       "</table>\n",
       "</div>"
      ],
      "text/plain": [
       "       PERIOD  cl_id   MCC channel_type  currency        TRDATETIME   amount  \\\n",
       "0  01/10/2017      0  5200        type1       810  21OCT17:00:00:00   5023.0   \n",
       "1  01/10/2017      0  6011        type1       810  12OCT17:12:24:07  20000.0   \n",
       "2  01/12/2017      0  5921        type1       810  05DEC17:00:00:00    767.0   \n",
       "3  01/10/2017      0  5411        type1       810  21OCT17:00:00:00   2031.0   \n",
       "4  01/10/2017      0  6012        type1       810  24OCT17:13:14:24  36562.0   \n",
       "\n",
       "  trx_category  target_flag  target_sum  channel_type_new  \n",
       "0          POS            0         0.0          0.512154  \n",
       "1      DEPOSIT            0         0.0          0.512154  \n",
       "2          POS            0         0.0          0.512154  \n",
       "3          POS            0         0.0          0.512154  \n",
       "4      C2C_OUT            0         0.0          0.512154  "
      ]
     },
     "execution_count": 26,
     "metadata": {},
     "output_type": "execute_result"
    }
   ],
   "source": [
    "raw_df.head()"
   ]
  },
  {
   "cell_type": "code",
   "execution_count": 27,
   "metadata": {},
   "outputs": [
    {
     "data": {
      "text/html": [
       "<div>\n",
       "<style scoped>\n",
       "    .dataframe tbody tr th:only-of-type {\n",
       "        vertical-align: middle;\n",
       "    }\n",
       "\n",
       "    .dataframe tbody tr th {\n",
       "        vertical-align: top;\n",
       "    }\n",
       "\n",
       "    .dataframe thead th {\n",
       "        text-align: right;\n",
       "    }\n",
       "</style>\n",
       "<table border=\"1\" class=\"dataframe\">\n",
       "  <thead>\n",
       "    <tr style=\"text-align: right;\">\n",
       "      <th></th>\n",
       "      <th>Total</th>\n",
       "      <th>Percent</th>\n",
       "    </tr>\n",
       "  </thead>\n",
       "  <tbody>\n",
       "  </tbody>\n",
       "</table>\n",
       "</div>"
      ],
      "text/plain": [
       "Empty DataFrame\n",
       "Columns: [Total, Percent]\n",
       "Index: []"
      ]
     },
     "execution_count": 27,
     "metadata": {},
     "output_type": "execute_result"
    }
   ],
   "source": [
    "missingdata(raw_df)"
   ]
  },
  {
   "cell_type": "code",
   "execution_count": null,
   "metadata": {},
   "outputs": [],
   "source": [
    "#MCC"
   ]
  },
  {
   "cell_type": "code",
   "execution_count": 28,
   "metadata": {},
   "outputs": [
    {
     "data": {
      "text/plain": [
       "<matplotlib.axes._subplots.AxesSubplot at 0x22b02f85588>"
      ]
     },
     "execution_count": 28,
     "metadata": {},
     "output_type": "execute_result"
    },
    {
     "data": {
      "image/png": "[encoded data removed]",
      "text/plain": [
       "<Figure size 432x288 with 1 Axes>"
      ]
     },
     "metadata": {
      "needs_background": "light"
     },
     "output_type": "display_data"
    }
   ],
   "source": [
    "raw_df.groupby(['MCC']).count()[['target_flag']].sort_values('target_flag', ascending=False).head(30).plot(kind='bar')"
   ]
  },
  {
   "cell_type": "code",
   "execution_count": 29,
   "metadata": {},
   "outputs": [
    {
     "data": {
      "text/plain": [
       "<matplotlib.axes._subplots.AxesSubplot at 0x22b02ffdf28>"
      ]
     },
     "execution_count": 29,
     "metadata": {},
     "output_type": "execute_result"
    },
    {
     "data": {
      "image/png": "[encoded data removed]",
      "text/plain": [
       "<Figure size 432x288 with 1 Axes>"
      ]
     },
     "metadata": {
      "needs_background": "light"
     },
     "output_type": "display_data"
    }
   ],
   "source": [
    "raw_df.groupby(['MCC']).sum()[['amount']].sort_values('amount', ascending=False).head(30).plot(kind='bar')"
   ]
  },
  {
   "cell_type": "markdown",
   "metadata": {},
   "source": [
    "Сравним группировки по ко-ву и по сумме\n",
    "Выделим 5 лидеров в каждой группе\n",
    "1 - 5411 / 6011\n",
    "2 - 6011 / 6012\n",
    "3 - 5814 / 5411\n",
    "4 - 5812  / 7011\n",
    "5 - 5499 / 4829\n",
    "\n",
    "Источник: https://mcc-codes.ru/code\n",
    "\n",
    "Предположим, что те кто будет пользоваться услугами банка должны сразу использовать карту для повседневных расходов, а также для , если расчитываются картой в супермаркетах (5411), ресторанах (5812), снимают наличные в банкоматах (6011)\n",
    "А также на путешествия (7011 - отели)\n",
    "\n"
   ]
  },
  {
   "cell_type": "code",
   "execution_count": 30,
   "metadata": {
    "scrolled": true
   },
   "outputs": [
    {
     "data": {
      "text/plain": [
       "target_flag\n",
       "0    46297\n",
       "1    75343\n",
       "Name: currency, dtype: int64"
      ]
     },
     "execution_count": 30,
     "metadata": {},
     "output_type": "execute_result"
    }
   ],
   "source": [
    "MCC_target = raw_df[(raw_df['MCC'] == 5411)].groupby(['target_flag']).count()['currency']\n",
    "MCC_target\n"
   ]
  },
  {
   "cell_type": "code",
   "execution_count": 31,
   "metadata": {},
   "outputs": [],
   "source": [
    "def mcc_cat(data):\n",
    "    '''\n",
    "    заполняем значения popular MCC\n",
    "    '''\n",
    "    if data == 6011:\n",
    "        return 6011\n",
    "    elif data == 5812: \n",
    "        return 5812\n",
    "    elif data == 7011:\n",
    "        return 7011\n",
    "    elif data == 5411:\n",
    "        return 5411\n",
    "    else:\n",
    "        return 7000"
   ]
  },
  {
   "cell_type": "code",
   "execution_count": 32,
   "metadata": {},
   "outputs": [],
   "source": [
    "raw_df['MCC_new'] = raw_df['MCC'].apply(mcc_cat)"
   ]
  },
  {
   "cell_type": "code",
   "execution_count": 33,
   "metadata": {
    "scrolled": true
   },
   "outputs": [
    {
     "data": {
      "text/html": [
       "<div>\n",
       "<style scoped>\n",
       "    .dataframe tbody tr th:only-of-type {\n",
       "        vertical-align: middle;\n",
       "    }\n",
       "\n",
       "    .dataframe tbody tr th {\n",
       "        vertical-align: top;\n",
       "    }\n",
       "\n",
       "    .dataframe thead th {\n",
       "        text-align: right;\n",
       "    }\n",
       "</style>\n",
       "<table border=\"1\" class=\"dataframe\">\n",
       "  <thead>\n",
       "    <tr style=\"text-align: right;\">\n",
       "      <th></th>\n",
       "      <th>PERIOD</th>\n",
       "      <th>cl_id</th>\n",
       "      <th>MCC</th>\n",
       "      <th>channel_type</th>\n",
       "      <th>currency</th>\n",
       "      <th>TRDATETIME</th>\n",
       "      <th>amount</th>\n",
       "      <th>trx_category</th>\n",
       "      <th>target_flag</th>\n",
       "      <th>target_sum</th>\n",
       "      <th>channel_type_new</th>\n",
       "      <th>MCC_new_5411</th>\n",
       "      <th>MCC_new_5812</th>\n",
       "      <th>MCC_new_6011</th>\n",
       "      <th>MCC_new_7000</th>\n",
       "      <th>MCC_new_7011</th>\n",
       "    </tr>\n",
       "  </thead>\n",
       "  <tbody>\n",
       "    <tr>\n",
       "      <th>0</th>\n",
       "      <td>01/10/2017</td>\n",
       "      <td>0</td>\n",
       "      <td>5200</td>\n",
       "      <td>type1</td>\n",
       "      <td>810</td>\n",
       "      <td>21OCT17:00:00:00</td>\n",
       "      <td>5023.0</td>\n",
       "      <td>POS</td>\n",
       "      <td>0</td>\n",
       "      <td>0.0</td>\n",
       "      <td>0.512154</td>\n",
       "      <td>0</td>\n",
       "      <td>0</td>\n",
       "      <td>0</td>\n",
       "      <td>1</td>\n",
       "      <td>0</td>\n",
       "    </tr>\n",
       "    <tr>\n",
       "      <th>1</th>\n",
       "      <td>01/10/2017</td>\n",
       "      <td>0</td>\n",
       "      <td>6011</td>\n",
       "      <td>type1</td>\n",
       "      <td>810</td>\n",
       "      <td>12OCT17:12:24:07</td>\n",
       "      <td>20000.0</td>\n",
       "      <td>DEPOSIT</td>\n",
       "      <td>0</td>\n",
       "      <td>0.0</td>\n",
       "      <td>0.512154</td>\n",
       "      <td>0</td>\n",
       "      <td>0</td>\n",
       "      <td>1</td>\n",
       "      <td>0</td>\n",
       "      <td>0</td>\n",
       "    </tr>\n",
       "    <tr>\n",
       "      <th>2</th>\n",
       "      <td>01/12/2017</td>\n",
       "      <td>0</td>\n",
       "      <td>5921</td>\n",
       "      <td>type1</td>\n",
       "      <td>810</td>\n",
       "      <td>05DEC17:00:00:00</td>\n",
       "      <td>767.0</td>\n",
       "      <td>POS</td>\n",
       "      <td>0</td>\n",
       "      <td>0.0</td>\n",
       "      <td>0.512154</td>\n",
       "      <td>0</td>\n",
       "      <td>0</td>\n",
       "      <td>0</td>\n",
       "      <td>1</td>\n",
       "      <td>0</td>\n",
       "    </tr>\n",
       "    <tr>\n",
       "      <th>3</th>\n",
       "      <td>01/10/2017</td>\n",
       "      <td>0</td>\n",
       "      <td>5411</td>\n",
       "      <td>type1</td>\n",
       "      <td>810</td>\n",
       "      <td>21OCT17:00:00:00</td>\n",
       "      <td>2031.0</td>\n",
       "      <td>POS</td>\n",
       "      <td>0</td>\n",
       "      <td>0.0</td>\n",
       "      <td>0.512154</td>\n",
       "      <td>1</td>\n",
       "      <td>0</td>\n",
       "      <td>0</td>\n",
       "      <td>0</td>\n",
       "      <td>0</td>\n",
       "    </tr>\n",
       "    <tr>\n",
       "      <th>4</th>\n",
       "      <td>01/10/2017</td>\n",
       "      <td>0</td>\n",
       "      <td>6012</td>\n",
       "      <td>type1</td>\n",
       "      <td>810</td>\n",
       "      <td>24OCT17:13:14:24</td>\n",
       "      <td>36562.0</td>\n",
       "      <td>C2C_OUT</td>\n",
       "      <td>0</td>\n",
       "      <td>0.0</td>\n",
       "      <td>0.512154</td>\n",
       "      <td>0</td>\n",
       "      <td>0</td>\n",
       "      <td>0</td>\n",
       "      <td>1</td>\n",
       "      <td>0</td>\n",
       "    </tr>\n",
       "  </tbody>\n",
       "</table>\n",
       "</div>"
      ],
      "text/plain": [
       "       PERIOD  cl_id   MCC channel_type  currency        TRDATETIME   amount  \\\n",
       "0  01/10/2017      0  5200        type1       810  21OCT17:00:00:00   5023.0   \n",
       "1  01/10/2017      0  6011        type1       810  12OCT17:12:24:07  20000.0   \n",
       "2  01/12/2017      0  5921        type1       810  05DEC17:00:00:00    767.0   \n",
       "3  01/10/2017      0  5411        type1       810  21OCT17:00:00:00   2031.0   \n",
       "4  01/10/2017      0  6012        type1       810  24OCT17:13:14:24  36562.0   \n",
       "\n",
       "  trx_category  target_flag  target_sum  channel_type_new  MCC_new_5411  \\\n",
       "0          POS            0         0.0          0.512154             0   \n",
       "1      DEPOSIT            0         0.0          0.512154             0   \n",
       "2          POS            0         0.0          0.512154             0   \n",
       "3          POS            0         0.0          0.512154             1   \n",
       "4      C2C_OUT            0         0.0          0.512154             0   \n",
       "\n",
       "   MCC_new_5812  MCC_new_6011  MCC_new_7000  MCC_new_7011  \n",
       "0             0             0             1             0  \n",
       "1             0             1             0             0  \n",
       "2             0             0             1             0  \n",
       "3             0             0             0             0  \n",
       "4             0             0             1             0  "
      ]
     },
     "execution_count": 33,
     "metadata": {},
     "output_type": "execute_result"
    }
   ],
   "source": [
    "\n",
    "raw_df = pd.get_dummies(raw_df, columns = [\"MCC_new\"],prefix=[\"MCC_new\"])\n",
    "\n",
    "raw_df.head()"
   ]
  },
  {
   "cell_type": "code",
   "execution_count": 50,
   "metadata": {},
   "outputs": [
    {
     "name": "stdout",
     "output_type": "stream",
     "text": [
      "   target_flag        amount    percent\n",
      "0            0  1.035375e+09  36.878945\n",
      "1            1  1.772122e+09  63.121055\n",
      "per_0 463670.1527765274\n",
      "per_1 640448.8761113281\n"
     ]
    }
   ],
   "source": [
    "summa = raw_df['amount'].sum()\n",
    "\n",
    "t_amount = raw_df.groupby(['target_flag']).sum()['amount'].reset_index()\n",
    "\n",
    "counts_0 = len(raw_df[(raw_df['target_flag'] == 0)].cl_id.unique())\n",
    "counts_1 = len(raw_df[(raw_df['target_flag'] == 1)].cl_id.unique())\n",
    "\n",
    "t_amount['percent'] = t_amount['amount'] / summa * 100\n",
    "\n",
    "print(t_amount)\n",
    "\n",
    "print('per_0', (t_amount['amount'][0] / counts_0))\n",
    "\n",
    "print('per_1', (t_amount['amount'][1] / counts_1))\n",
    "\n"
   ]
  },
  {
   "cell_type": "code",
   "execution_count": 51,
   "metadata": {},
   "outputs": [],
   "source": [
    "# от суммы трат также есть зависимость\n",
    "# масштабируем amount"
   ]
  },
  {
   "cell_type": "code",
   "execution_count": 53,
   "metadata": {},
   "outputs": [],
   "source": [
    "from sklearn import preprocessing\n",
    "\n",
    "scaler_amount = preprocessing.MinMaxScaler(feature_range=[0, 1])\n",
    "raw_df['amount_m'] = scaler_amount.fit_transform(raw_df[['amount']])"
   ]
  },
  {
   "cell_type": "code",
   "execution_count": 54,
   "metadata": {},
   "outputs": [
    {
     "data": {
      "text/html": [
       "<div>\n",
       "<style scoped>\n",
       "    .dataframe tbody tr th:only-of-type {\n",
       "        vertical-align: middle;\n",
       "    }\n",
       "\n",
       "    .dataframe tbody tr th {\n",
       "        vertical-align: top;\n",
       "    }\n",
       "\n",
       "    .dataframe thead th {\n",
       "        text-align: right;\n",
       "    }\n",
       "</style>\n",
       "<table border=\"1\" class=\"dataframe\">\n",
       "  <thead>\n",
       "    <tr style=\"text-align: right;\">\n",
       "      <th></th>\n",
       "      <th>PERIOD</th>\n",
       "      <th>cl_id</th>\n",
       "      <th>MCC</th>\n",
       "      <th>channel_type</th>\n",
       "      <th>currency</th>\n",
       "      <th>TRDATETIME</th>\n",
       "      <th>amount</th>\n",
       "      <th>trx_category</th>\n",
       "      <th>target_flag</th>\n",
       "      <th>target_sum</th>\n",
       "      <th>channel_type_new</th>\n",
       "      <th>MCC_new_5411</th>\n",
       "      <th>MCC_new_5812</th>\n",
       "      <th>MCC_new_6011</th>\n",
       "      <th>MCC_new_7000</th>\n",
       "      <th>MCC_new_7011</th>\n",
       "      <th>amount_m</th>\n",
       "    </tr>\n",
       "  </thead>\n",
       "  <tbody>\n",
       "    <tr>\n",
       "      <th>0</th>\n",
       "      <td>01/10/2017</td>\n",
       "      <td>0</td>\n",
       "      <td>5200</td>\n",
       "      <td>type1</td>\n",
       "      <td>810</td>\n",
       "      <td>21OCT17:00:00:00</td>\n",
       "      <td>5023.0</td>\n",
       "      <td>POS</td>\n",
       "      <td>0</td>\n",
       "      <td>0.0</td>\n",
       "      <td>0.512154</td>\n",
       "      <td>0</td>\n",
       "      <td>0</td>\n",
       "      <td>0</td>\n",
       "      <td>1</td>\n",
       "      <td>0</td>\n",
       "      <td>0.000140</td>\n",
       "    </tr>\n",
       "    <tr>\n",
       "      <th>1</th>\n",
       "      <td>01/10/2017</td>\n",
       "      <td>0</td>\n",
       "      <td>6011</td>\n",
       "      <td>type1</td>\n",
       "      <td>810</td>\n",
       "      <td>12OCT17:12:24:07</td>\n",
       "      <td>20000.0</td>\n",
       "      <td>DEPOSIT</td>\n",
       "      <td>0</td>\n",
       "      <td>0.0</td>\n",
       "      <td>0.512154</td>\n",
       "      <td>0</td>\n",
       "      <td>0</td>\n",
       "      <td>1</td>\n",
       "      <td>0</td>\n",
       "      <td>0</td>\n",
       "      <td>0.000558</td>\n",
       "    </tr>\n",
       "    <tr>\n",
       "      <th>2</th>\n",
       "      <td>01/12/2017</td>\n",
       "      <td>0</td>\n",
       "      <td>5921</td>\n",
       "      <td>type1</td>\n",
       "      <td>810</td>\n",
       "      <td>05DEC17:00:00:00</td>\n",
       "      <td>767.0</td>\n",
       "      <td>POS</td>\n",
       "      <td>0</td>\n",
       "      <td>0.0</td>\n",
       "      <td>0.512154</td>\n",
       "      <td>0</td>\n",
       "      <td>0</td>\n",
       "      <td>0</td>\n",
       "      <td>1</td>\n",
       "      <td>0</td>\n",
       "      <td>0.000021</td>\n",
       "    </tr>\n",
       "    <tr>\n",
       "      <th>3</th>\n",
       "      <td>01/10/2017</td>\n",
       "      <td>0</td>\n",
       "      <td>5411</td>\n",
       "      <td>type1</td>\n",
       "      <td>810</td>\n",
       "      <td>21OCT17:00:00:00</td>\n",
       "      <td>2031.0</td>\n",
       "      <td>POS</td>\n",
       "      <td>0</td>\n",
       "      <td>0.0</td>\n",
       "      <td>0.512154</td>\n",
       "      <td>1</td>\n",
       "      <td>0</td>\n",
       "      <td>0</td>\n",
       "      <td>0</td>\n",
       "      <td>0</td>\n",
       "      <td>0.000057</td>\n",
       "    </tr>\n",
       "    <tr>\n",
       "      <th>4</th>\n",
       "      <td>01/10/2017</td>\n",
       "      <td>0</td>\n",
       "      <td>6012</td>\n",
       "      <td>type1</td>\n",
       "      <td>810</td>\n",
       "      <td>24OCT17:13:14:24</td>\n",
       "      <td>36562.0</td>\n",
       "      <td>C2C_OUT</td>\n",
       "      <td>0</td>\n",
       "      <td>0.0</td>\n",
       "      <td>0.512154</td>\n",
       "      <td>0</td>\n",
       "      <td>0</td>\n",
       "      <td>0</td>\n",
       "      <td>1</td>\n",
       "      <td>0</td>\n",
       "      <td>0.001020</td>\n",
       "    </tr>\n",
       "  </tbody>\n",
       "</table>\n",
       "</div>"
      ],
      "text/plain": [
       "       PERIOD  cl_id   MCC channel_type  currency        TRDATETIME   amount  \\\n",
       "0  01/10/2017      0  5200        type1       810  21OCT17:00:00:00   5023.0   \n",
       "1  01/10/2017      0  6011        type1       810  12OCT17:12:24:07  20000.0   \n",
       "2  01/12/2017      0  5921        type1       810  05DEC17:00:00:00    767.0   \n",
       "3  01/10/2017      0  5411        type1       810  21OCT17:00:00:00   2031.0   \n",
       "4  01/10/2017      0  6012        type1       810  24OCT17:13:14:24  36562.0   \n",
       "\n",
       "  trx_category  target_flag  target_sum  channel_type_new  MCC_new_5411  \\\n",
       "0          POS            0         0.0          0.512154             0   \n",
       "1      DEPOSIT            0         0.0          0.512154             0   \n",
       "2          POS            0         0.0          0.512154             0   \n",
       "3          POS            0         0.0          0.512154             1   \n",
       "4      C2C_OUT            0         0.0          0.512154             0   \n",
       "\n",
       "   MCC_new_5812  MCC_new_6011  MCC_new_7000  MCC_new_7011  amount_m  \n",
       "0             0             0             1             0  0.000140  \n",
       "1             0             1             0             0  0.000558  \n",
       "2             0             0             1             0  0.000021  \n",
       "3             0             0             0             0  0.000057  \n",
       "4             0             0             1             0  0.001020  "
      ]
     },
     "execution_count": 54,
     "metadata": {},
     "output_type": "execute_result"
    }
   ],
   "source": [
    "raw_df.head()"
   ]
  },
  {
   "cell_type": "code",
   "execution_count": 56,
   "metadata": {},
   "outputs": [],
   "source": [
    "def transaction_by_day_count(dataset):\n",
    "    dataset['day_of_transaction'] = dataset['TRDATETIME'].apply(\n",
    "        lambda x: (datetime.datetime.strptime(x, '%d%b%y:%H:%M:%S')).strftime('%w')\n",
    "    ) \n",
    "    tmp_df = dataset.groupby(\n",
    "        ['cl_id','day_of_transaction']\n",
    "    )['day_of_transaction'].size().unstack().fillna(0).reset_index()\n",
    "    old_columns = [\n",
    "        old_col for old_col in tmp_df.columns.tolist()\n",
    "        if old_col in dataset['day_of_transaction'].unique()\n",
    "    ]\n",
    "    tmp_df.rename(\n",
    "        columns={old_col: 'day_' + old_col for old_col in old_columns},\n",
    "        inplace=True\n",
    "    )\n",
    "    return tmp_df\n",
    "    \n",
    "    \n",
    "\n",
    "def transaction_by_hour_count(dataset):\n",
    "    dataset['hour_of_transaction'] = dataset['TRDATETIME'].apply(\n",
    "        lambda x: (datetime.datetime.strptime(x, '%d%b%y:%H:%M:%S')).strftime('%H')\n",
    "    ) \n",
    "    return dataset.groupby(\n",
    "        ['cl_id','hour_of_transaction']\n",
    "    )['hour_of_transaction'].size().unstack().fillna(0).reset_index()\n",
    "\n"
   ]
  },
  {
   "cell_type": "code",
   "execution_count": 57,
   "metadata": {},
   "outputs": [],
   "source": [
    "day_=transaction_by_day_count(raw_df)"
   ]
  },
  {
   "cell_type": "code",
   "execution_count": 58,
   "metadata": {},
   "outputs": [
    {
     "data": {
      "text/html": [
       "<div>\n",
       "<style scoped>\n",
       "    .dataframe tbody tr th:only-of-type {\n",
       "        vertical-align: middle;\n",
       "    }\n",
       "\n",
       "    .dataframe tbody tr th {\n",
       "        vertical-align: top;\n",
       "    }\n",
       "\n",
       "    .dataframe thead th {\n",
       "        text-align: right;\n",
       "    }\n",
       "</style>\n",
       "<table border=\"1\" class=\"dataframe\">\n",
       "  <thead>\n",
       "    <tr style=\"text-align: right;\">\n",
       "      <th>day_of_transaction</th>\n",
       "      <th>cl_id</th>\n",
       "      <th>day_0</th>\n",
       "      <th>day_1</th>\n",
       "      <th>day_2</th>\n",
       "      <th>day_3</th>\n",
       "      <th>day_4</th>\n",
       "      <th>day_5</th>\n",
       "      <th>day_6</th>\n",
       "    </tr>\n",
       "  </thead>\n",
       "  <tbody>\n",
       "    <tr>\n",
       "      <th>4995</th>\n",
       "      <td>10210</td>\n",
       "      <td>16.0</td>\n",
       "      <td>15.0</td>\n",
       "      <td>16.0</td>\n",
       "      <td>31.0</td>\n",
       "      <td>13.0</td>\n",
       "      <td>10.0</td>\n",
       "      <td>13.0</td>\n",
       "    </tr>\n",
       "    <tr>\n",
       "      <th>4996</th>\n",
       "      <td>10212</td>\n",
       "      <td>0.0</td>\n",
       "      <td>1.0</td>\n",
       "      <td>2.0</td>\n",
       "      <td>2.0</td>\n",
       "      <td>9.0</td>\n",
       "      <td>0.0</td>\n",
       "      <td>0.0</td>\n",
       "    </tr>\n",
       "    <tr>\n",
       "      <th>4997</th>\n",
       "      <td>10213</td>\n",
       "      <td>6.0</td>\n",
       "      <td>13.0</td>\n",
       "      <td>13.0</td>\n",
       "      <td>14.0</td>\n",
       "      <td>15.0</td>\n",
       "      <td>10.0</td>\n",
       "      <td>3.0</td>\n",
       "    </tr>\n",
       "    <tr>\n",
       "      <th>4998</th>\n",
       "      <td>10214</td>\n",
       "      <td>15.0</td>\n",
       "      <td>15.0</td>\n",
       "      <td>14.0</td>\n",
       "      <td>7.0</td>\n",
       "      <td>9.0</td>\n",
       "      <td>15.0</td>\n",
       "      <td>32.0</td>\n",
       "    </tr>\n",
       "    <tr>\n",
       "      <th>4999</th>\n",
       "      <td>10215</td>\n",
       "      <td>0.0</td>\n",
       "      <td>1.0</td>\n",
       "      <td>7.0</td>\n",
       "      <td>2.0</td>\n",
       "      <td>3.0</td>\n",
       "      <td>9.0</td>\n",
       "      <td>2.0</td>\n",
       "    </tr>\n",
       "  </tbody>\n",
       "</table>\n",
       "</div>"
      ],
      "text/plain": [
       "day_of_transaction  cl_id  day_0  day_1  day_2  day_3  day_4  day_5  day_6\n",
       "4995                10210   16.0   15.0   16.0   31.0   13.0   10.0   13.0\n",
       "4996                10212    0.0    1.0    2.0    2.0    9.0    0.0    0.0\n",
       "4997                10213    6.0   13.0   13.0   14.0   15.0   10.0    3.0\n",
       "4998                10214   15.0   15.0   14.0    7.0    9.0   15.0   32.0\n",
       "4999                10215    0.0    1.0    7.0    2.0    3.0    9.0    2.0"
      ]
     },
     "execution_count": 58,
     "metadata": {},
     "output_type": "execute_result"
    }
   ],
   "source": [
    "day_.tail()"
   ]
  },
  {
   "cell_type": "code",
   "execution_count": 59,
   "metadata": {},
   "outputs": [],
   "source": [
    "hour_ =transaction_by_hour_count(raw_df)"
   ]
  },
  {
   "cell_type": "code",
   "execution_count": 60,
   "metadata": {},
   "outputs": [
    {
     "data": {
      "text/html": [
       "<div>\n",
       "<style scoped>\n",
       "    .dataframe tbody tr th:only-of-type {\n",
       "        vertical-align: middle;\n",
       "    }\n",
       "\n",
       "    .dataframe tbody tr th {\n",
       "        vertical-align: top;\n",
       "    }\n",
       "\n",
       "    .dataframe thead th {\n",
       "        text-align: right;\n",
       "    }\n",
       "</style>\n",
       "<table border=\"1\" class=\"dataframe\">\n",
       "  <thead>\n",
       "    <tr style=\"text-align: right;\">\n",
       "      <th>hour_of_transaction</th>\n",
       "      <th>cl_id</th>\n",
       "      <th>00</th>\n",
       "      <th>01</th>\n",
       "      <th>02</th>\n",
       "      <th>03</th>\n",
       "      <th>04</th>\n",
       "      <th>05</th>\n",
       "      <th>06</th>\n",
       "      <th>07</th>\n",
       "      <th>08</th>\n",
       "      <th>...</th>\n",
       "      <th>14</th>\n",
       "      <th>15</th>\n",
       "      <th>16</th>\n",
       "      <th>17</th>\n",
       "      <th>18</th>\n",
       "      <th>19</th>\n",
       "      <th>20</th>\n",
       "      <th>21</th>\n",
       "      <th>22</th>\n",
       "      <th>23</th>\n",
       "    </tr>\n",
       "  </thead>\n",
       "  <tbody>\n",
       "    <tr>\n",
       "      <th>0</th>\n",
       "      <td>0</td>\n",
       "      <td>3.0</td>\n",
       "      <td>0.0</td>\n",
       "      <td>0.0</td>\n",
       "      <td>0.0</td>\n",
       "      <td>0.0</td>\n",
       "      <td>0.0</td>\n",
       "      <td>0.0</td>\n",
       "      <td>0.0</td>\n",
       "      <td>0.0</td>\n",
       "      <td>...</td>\n",
       "      <td>0.0</td>\n",
       "      <td>0.0</td>\n",
       "      <td>0.0</td>\n",
       "      <td>0.0</td>\n",
       "      <td>0.0</td>\n",
       "      <td>0.0</td>\n",
       "      <td>0.0</td>\n",
       "      <td>0.0</td>\n",
       "      <td>0.0</td>\n",
       "      <td>0.0</td>\n",
       "    </tr>\n",
       "    <tr>\n",
       "      <th>1</th>\n",
       "      <td>1</td>\n",
       "      <td>101.0</td>\n",
       "      <td>0.0</td>\n",
       "      <td>0.0</td>\n",
       "      <td>0.0</td>\n",
       "      <td>0.0</td>\n",
       "      <td>0.0</td>\n",
       "      <td>0.0</td>\n",
       "      <td>0.0</td>\n",
       "      <td>0.0</td>\n",
       "      <td>...</td>\n",
       "      <td>0.0</td>\n",
       "      <td>0.0</td>\n",
       "      <td>0.0</td>\n",
       "      <td>0.0</td>\n",
       "      <td>0.0</td>\n",
       "      <td>2.0</td>\n",
       "      <td>1.0</td>\n",
       "      <td>0.0</td>\n",
       "      <td>0.0</td>\n",
       "      <td>0.0</td>\n",
       "    </tr>\n",
       "    <tr>\n",
       "      <th>2</th>\n",
       "      <td>5</td>\n",
       "      <td>124.0</td>\n",
       "      <td>0.0</td>\n",
       "      <td>0.0</td>\n",
       "      <td>0.0</td>\n",
       "      <td>0.0</td>\n",
       "      <td>0.0</td>\n",
       "      <td>0.0</td>\n",
       "      <td>0.0</td>\n",
       "      <td>0.0</td>\n",
       "      <td>...</td>\n",
       "      <td>1.0</td>\n",
       "      <td>1.0</td>\n",
       "      <td>1.0</td>\n",
       "      <td>4.0</td>\n",
       "      <td>5.0</td>\n",
       "      <td>2.0</td>\n",
       "      <td>0.0</td>\n",
       "      <td>0.0</td>\n",
       "      <td>0.0</td>\n",
       "      <td>0.0</td>\n",
       "    </tr>\n",
       "    <tr>\n",
       "      <th>3</th>\n",
       "      <td>9</td>\n",
       "      <td>7.0</td>\n",
       "      <td>1.0</td>\n",
       "      <td>6.0</td>\n",
       "      <td>1.0</td>\n",
       "      <td>0.0</td>\n",
       "      <td>0.0</td>\n",
       "      <td>0.0</td>\n",
       "      <td>0.0</td>\n",
       "      <td>0.0</td>\n",
       "      <td>...</td>\n",
       "      <td>0.0</td>\n",
       "      <td>3.0</td>\n",
       "      <td>2.0</td>\n",
       "      <td>1.0</td>\n",
       "      <td>2.0</td>\n",
       "      <td>0.0</td>\n",
       "      <td>1.0</td>\n",
       "      <td>1.0</td>\n",
       "      <td>0.0</td>\n",
       "      <td>3.0</td>\n",
       "    </tr>\n",
       "    <tr>\n",
       "      <th>4</th>\n",
       "      <td>10</td>\n",
       "      <td>299.0</td>\n",
       "      <td>3.0</td>\n",
       "      <td>6.0</td>\n",
       "      <td>8.0</td>\n",
       "      <td>14.0</td>\n",
       "      <td>9.0</td>\n",
       "      <td>19.0</td>\n",
       "      <td>17.0</td>\n",
       "      <td>13.0</td>\n",
       "      <td>...</td>\n",
       "      <td>6.0</td>\n",
       "      <td>3.0</td>\n",
       "      <td>4.0</td>\n",
       "      <td>4.0</td>\n",
       "      <td>0.0</td>\n",
       "      <td>0.0</td>\n",
       "      <td>1.0</td>\n",
       "      <td>0.0</td>\n",
       "      <td>0.0</td>\n",
       "      <td>0.0</td>\n",
       "    </tr>\n",
       "  </tbody>\n",
       "</table>\n",
       "<p>5 rows × 25 columns</p>\n",
       "</div>"
      ],
      "text/plain": [
       "hour_of_transaction  cl_id     00   01   02   03    04   05    06    07    08  \\\n",
       "0                        0    3.0  0.0  0.0  0.0   0.0  0.0   0.0   0.0   0.0   \n",
       "1                        1  101.0  0.0  0.0  0.0   0.0  0.0   0.0   0.0   0.0   \n",
       "2                        5  124.0  0.0  0.0  0.0   0.0  0.0   0.0   0.0   0.0   \n",
       "3                        9    7.0  1.0  6.0  1.0   0.0  0.0   0.0   0.0   0.0   \n",
       "4                       10  299.0  3.0  6.0  8.0  14.0  9.0  19.0  17.0  13.0   \n",
       "\n",
       "hour_of_transaction ...    14   15   16   17   18   19   20   21   22   23  \n",
       "0                   ...   0.0  0.0  0.0  0.0  0.0  0.0  0.0  0.0  0.0  0.0  \n",
       "1                   ...   0.0  0.0  0.0  0.0  0.0  2.0  1.0  0.0  0.0  0.0  \n",
       "2                   ...   1.0  1.0  1.0  4.0  5.0  2.0  0.0  0.0  0.0  0.0  \n",
       "3                   ...   0.0  3.0  2.0  1.0  2.0  0.0  1.0  1.0  0.0  3.0  \n",
       "4                   ...   6.0  3.0  4.0  4.0  0.0  0.0  1.0  0.0  0.0  0.0  \n",
       "\n",
       "[5 rows x 25 columns]"
      ]
     },
     "execution_count": 60,
     "metadata": {},
     "output_type": "execute_result"
    }
   ],
   "source": [
    "hour_.head()"
   ]
  },
  {
   "cell_type": "code",
   "execution_count": 61,
   "metadata": {},
   "outputs": [
    {
     "data": {
      "text/plain": [
       "hour_of_transaction\n",
       "00    432913.0\n",
       "13      4843.0\n",
       "12      4707.0\n",
       "11      4681.0\n",
       "14      4397.0\n",
       "15      4120.0\n",
       "10      4088.0\n",
       "16      3848.0\n",
       "17      3816.0\n",
       "18      3659.0\n",
       "09      3635.0\n",
       "19      2704.0\n",
       "08      2699.0\n",
       "07      1983.0\n",
       "20      1797.0\n",
       "06      1315.0\n",
       "21      1268.0\n",
       "05       981.0\n",
       "22       850.0\n",
       "04       660.0\n",
       "23       491.0\n",
       "03       456.0\n",
       "02       350.0\n",
       "01       252.0\n",
       "dtype: float64"
      ]
     },
     "execution_count": 61,
     "metadata": {},
     "output_type": "execute_result"
    }
   ],
   "source": [
    "hour_.sum()[['00', '01', '02', '03', '04', '05', '06', '07', '08',\n",
    "            '09', '10', '11', '12', '13', '14', '15', '16',\n",
    "            '17', '18', '19', '20', '21', '22', '23']].sort_values(ascending = False )"
   ]
  },
  {
   "cell_type": "code",
   "execution_count": 62,
   "metadata": {},
   "outputs": [
    {
     "data": {
      "text/plain": [
       "<matplotlib.axes._subplots.AxesSubplot at 0x22b07e19208>"
      ]
     },
     "execution_count": 62,
     "metadata": {},
     "output_type": "execute_result"
    },
    {
     "data": {
      "image/png": "[encoded data removed]",
      "text/plain": [
       "<Figure size 432x288 with 1 Axes>"
      ]
     },
     "metadata": {
      "needs_background": "light"
     },
     "output_type": "display_data"
    }
   ],
   "source": [
    "raw_df.groupby(['day_of_transaction']).sum()[['amount']].sort_values('amount', ascending = False ).plot(kind = 'barh')"
   ]
  },
  {
   "cell_type": "code",
   "execution_count": 63,
   "metadata": {},
   "outputs": [],
   "source": [
    "a = '12OCT17:12:24:07'\n",
    "date_datetime = datetime.datetime.strptime(a, '%d%b%y:%H:%M:%S' )"
   ]
  },
  {
   "cell_type": "code",
   "execution_count": 64,
   "metadata": {},
   "outputs": [
    {
     "data": {
      "text/plain": [
       "'4'"
      ]
     },
     "execution_count": 64,
     "metadata": {},
     "output_type": "execute_result"
    }
   ],
   "source": [
    "date_datetime.strftime('%w')\n",
    "# действительно четверг\n",
    "# day_0 - sunday"
   ]
  },
  {
   "cell_type": "markdown",
   "metadata": {},
   "source": [
    "#### ожидаемо в пятницу больше всего активности, в воскресенье - меньше всего"
   ]
  },
  {
   "cell_type": "code",
   "execution_count": 65,
   "metadata": {},
   "outputs": [
    {
     "data": {
      "text/plain": [
       "<matplotlib.axes._subplots.AxesSubplot at 0x22b036189b0>"
      ]
     },
     "execution_count": 65,
     "metadata": {},
     "output_type": "execute_result"
    },
    {
     "data": {
      "image/png": "[encoded data removed]",
      "text/plain": [
       "<Figure size 432x288 with 1 Axes>"
      ]
     },
     "metadata": {
      "needs_background": "light"
     },
     "output_type": "display_data"
    }
   ],
   "source": [
    "raw_df.groupby(['hour_of_transaction']).sum()[['amount']].sort_values('amount', ascending = False ).plot(kind = 'barh')"
   ]
  },
  {
   "cell_type": "markdown",
   "metadata": {},
   "source": [
    "#### есть перекос в данных по времени 00, скорее всего это алгоритм банка. В таком виде данная переменная не информативна"
   ]
  },
  {
   "cell_type": "code",
   "execution_count": 66,
   "metadata": {},
   "outputs": [
    {
     "data": {
      "text/plain": [
       "<matplotlib.axes._subplots.AxesSubplot at 0x22b036e7ef0>"
      ]
     },
     "execution_count": 66,
     "metadata": {},
     "output_type": "execute_result"
    },
    {
     "data": {
      "image/png": "[encoded data removed]",
      "text/plain": [
       "<Figure size 432x288 with 1 Axes>"
      ]
     },
     "metadata": {
      "needs_background": "light"
     },
     "output_type": "display_data"
    }
   ],
   "source": [
    "raw_df.groupby(['trx_category']).count()['cl_id'].sort_values(ascending = False).plot(kind = 'barh')"
   ]
  },
  {
   "cell_type": "markdown",
   "metadata": {},
   "source": [
    "#### есть дисбаланс классов по количеству для POS, посмотрим по сумме"
   ]
  },
  {
   "cell_type": "code",
   "execution_count": 67,
   "metadata": {},
   "outputs": [
    {
     "data": {
      "text/plain": [
       "<matplotlib.axes._subplots.AxesSubplot at 0x22b03646fd0>"
      ]
     },
     "execution_count": 67,
     "metadata": {},
     "output_type": "execute_result"
    },
    {
     "data": {
      "image/png": "[encoded data removed]",
      "text/plain": [
       "<Figure size 432x288 with 1 Axes>"
      ]
     },
     "metadata": {
      "needs_background": "light"
     },
     "output_type": "display_data"
    }
   ],
   "source": [
    "raw_df.groupby(['trx_category']).sum()['amount'].sort_values(ascending = False).plot(kind = 'barh')"
   ]
  },
  {
   "cell_type": "markdown",
   "metadata": {},
   "source": [
    "стало лучше, также посмотрим вероятности по суммам"
   ]
  },
  {
   "cell_type": "code",
   "execution_count": null,
   "metadata": {},
   "outputs": [],
   "source": [
    "# посмотрим на комплексную вероятность"
   ]
  },
  {
   "cell_type": "code",
   "execution_count": 68,
   "metadata": {},
   "outputs": [],
   "source": [
    "prob_trx_dict = ((raw_df[raw_df['target_flag'] == 1]['trx_category'].value_counts() / raw_df['trx_category'].value_counts()) *\n",
    "                  (raw_df.groupby(['trx_category']).sum()['amount'] / raw_df['amount'].sum())).to_dict()"
   ]
  },
  {
   "cell_type": "code",
   "execution_count": 69,
   "metadata": {},
   "outputs": [
    {
     "data": {
      "text/plain": [
       "{'BACK_TRX': 0.005169417458437598,\n",
       " 'C2C_IN': 0.01931066566220388,\n",
       " 'C2C_OUT': 0.021102036986378015,\n",
       " 'CASH_ADV': 0.00017213203710488904,\n",
       " 'CAT': 0.0060331247194159296,\n",
       " 'DEPOSIT': 0.08023630149814298,\n",
       " 'POS': 0.23655801034642726,\n",
       " 'WD_ATM_OTHER': 0.02375979709219387,\n",
       " 'WD_ATM_PARTNER': 0.08452267178829612,\n",
       " 'WD_ATM_ROS': 0.16950480361812068}"
      ]
     },
     "execution_count": 69,
     "metadata": {},
     "output_type": "execute_result"
    }
   ],
   "source": [
    "prob_trx_dict"
   ]
  },
  {
   "cell_type": "code",
   "execution_count": 70,
   "metadata": {},
   "outputs": [],
   "source": [
    "raw_df['trx_category_new'] = raw_df['trx_category'].apply(prob_trx_dict.get)"
   ]
  },
  {
   "cell_type": "code",
   "execution_count": 71,
   "metadata": {},
   "outputs": [],
   "source": [
    "drop_column = ['MCC', 'channel_type', 'trx_category', 'target_sum','hour_of_transaction', 'PERIOD', 'TRDATETIME']\n",
    "raw_df.drop(drop_column, axis=1, inplace = True)"
   ]
  },
  {
   "cell_type": "code",
   "execution_count": 72,
   "metadata": {},
   "outputs": [
    {
     "data": {
      "text/html": [
       "<div>\n",
       "<style scoped>\n",
       "    .dataframe tbody tr th:only-of-type {\n",
       "        vertical-align: middle;\n",
       "    }\n",
       "\n",
       "    .dataframe tbody tr th {\n",
       "        vertical-align: top;\n",
       "    }\n",
       "\n",
       "    .dataframe thead th {\n",
       "        text-align: right;\n",
       "    }\n",
       "</style>\n",
       "<table border=\"1\" class=\"dataframe\">\n",
       "  <thead>\n",
       "    <tr style=\"text-align: right;\">\n",
       "      <th></th>\n",
       "      <th>cl_id</th>\n",
       "      <th>currency</th>\n",
       "      <th>amount</th>\n",
       "      <th>target_flag</th>\n",
       "      <th>channel_type_new</th>\n",
       "      <th>MCC_new_5411</th>\n",
       "      <th>MCC_new_5812</th>\n",
       "      <th>MCC_new_6011</th>\n",
       "      <th>MCC_new_7000</th>\n",
       "      <th>MCC_new_7011</th>\n",
       "      <th>amount_m</th>\n",
       "      <th>trx_category_new</th>\n",
       "    </tr>\n",
       "  </thead>\n",
       "  <tbody>\n",
       "    <tr>\n",
       "      <th>0</th>\n",
       "      <td>0</td>\n",
       "      <td>810</td>\n",
       "      <td>5023.0</td>\n",
       "      <td>0</td>\n",
       "      <td>0.512154</td>\n",
       "      <td>0</td>\n",
       "      <td>0</td>\n",
       "      <td>0</td>\n",
       "      <td>1</td>\n",
       "      <td>0</td>\n",
       "      <td>0.000140</td>\n",
       "      <td>0.236558</td>\n",
       "    </tr>\n",
       "    <tr>\n",
       "      <th>1</th>\n",
       "      <td>0</td>\n",
       "      <td>810</td>\n",
       "      <td>20000.0</td>\n",
       "      <td>0</td>\n",
       "      <td>0.512154</td>\n",
       "      <td>0</td>\n",
       "      <td>0</td>\n",
       "      <td>1</td>\n",
       "      <td>0</td>\n",
       "      <td>0</td>\n",
       "      <td>0.000558</td>\n",
       "      <td>0.080236</td>\n",
       "    </tr>\n",
       "    <tr>\n",
       "      <th>2</th>\n",
       "      <td>0</td>\n",
       "      <td>810</td>\n",
       "      <td>767.0</td>\n",
       "      <td>0</td>\n",
       "      <td>0.512154</td>\n",
       "      <td>0</td>\n",
       "      <td>0</td>\n",
       "      <td>0</td>\n",
       "      <td>1</td>\n",
       "      <td>0</td>\n",
       "      <td>0.000021</td>\n",
       "      <td>0.236558</td>\n",
       "    </tr>\n",
       "    <tr>\n",
       "      <th>3</th>\n",
       "      <td>0</td>\n",
       "      <td>810</td>\n",
       "      <td>2031.0</td>\n",
       "      <td>0</td>\n",
       "      <td>0.512154</td>\n",
       "      <td>1</td>\n",
       "      <td>0</td>\n",
       "      <td>0</td>\n",
       "      <td>0</td>\n",
       "      <td>0</td>\n",
       "      <td>0.000057</td>\n",
       "      <td>0.236558</td>\n",
       "    </tr>\n",
       "    <tr>\n",
       "      <th>4</th>\n",
       "      <td>0</td>\n",
       "      <td>810</td>\n",
       "      <td>36562.0</td>\n",
       "      <td>0</td>\n",
       "      <td>0.512154</td>\n",
       "      <td>0</td>\n",
       "      <td>0</td>\n",
       "      <td>0</td>\n",
       "      <td>1</td>\n",
       "      <td>0</td>\n",
       "      <td>0.001020</td>\n",
       "      <td>0.021102</td>\n",
       "    </tr>\n",
       "  </tbody>\n",
       "</table>\n",
       "</div>"
      ],
      "text/plain": [
       "   cl_id  currency   amount  target_flag  channel_type_new  MCC_new_5411  \\\n",
       "0      0       810   5023.0            0          0.512154             0   \n",
       "1      0       810  20000.0            0          0.512154             0   \n",
       "2      0       810    767.0            0          0.512154             0   \n",
       "3      0       810   2031.0            0          0.512154             1   \n",
       "4      0       810  36562.0            0          0.512154             0   \n",
       "\n",
       "   MCC_new_5812  MCC_new_6011  MCC_new_7000  MCC_new_7011  amount_m  \\\n",
       "0             0             0             1             0  0.000140   \n",
       "1             0             1             0             0  0.000558   \n",
       "2             0             0             1             0  0.000021   \n",
       "3             0             0             0             0  0.000057   \n",
       "4             0             0             1             0  0.001020   \n",
       "\n",
       "   trx_category_new  \n",
       "0          0.236558  \n",
       "1          0.080236  \n",
       "2          0.236558  \n",
       "3          0.236558  \n",
       "4          0.021102  "
      ]
     },
     "execution_count": 72,
     "metadata": {},
     "output_type": "execute_result"
    }
   ],
   "source": [
    "raw_df.drop('day_of_transaction', axis=1, inplace = True)\n",
    "raw_df.head()"
   ]
  },
  {
   "cell_type": "code",
   "execution_count": 74,
   "metadata": {},
   "outputs": [
    {
     "data": {
      "text/html": [
       "<div>\n",
       "<style scoped>\n",
       "    .dataframe tbody tr th:only-of-type {\n",
       "        vertical-align: middle;\n",
       "    }\n",
       "\n",
       "    .dataframe tbody tr th {\n",
       "        vertical-align: top;\n",
       "    }\n",
       "\n",
       "    .dataframe thead th {\n",
       "        text-align: right;\n",
       "    }\n",
       "</style>\n",
       "<table border=\"1\" class=\"dataframe\">\n",
       "  <thead>\n",
       "    <tr style=\"text-align: right;\">\n",
       "      <th></th>\n",
       "      <th>cl_id</th>\n",
       "      <th>currency</th>\n",
       "      <th>amount</th>\n",
       "      <th>target_flag</th>\n",
       "      <th>channel_type_new</th>\n",
       "      <th>MCC_new_5411</th>\n",
       "      <th>MCC_new_5812</th>\n",
       "      <th>MCC_new_6011</th>\n",
       "      <th>MCC_new_7011</th>\n",
       "      <th>amount_m</th>\n",
       "      <th>trx_category_new</th>\n",
       "    </tr>\n",
       "  </thead>\n",
       "  <tbody>\n",
       "    <tr>\n",
       "      <th>0</th>\n",
       "      <td>0</td>\n",
       "      <td>810</td>\n",
       "      <td>5023.0</td>\n",
       "      <td>0</td>\n",
       "      <td>0.512154</td>\n",
       "      <td>0</td>\n",
       "      <td>0</td>\n",
       "      <td>0</td>\n",
       "      <td>0</td>\n",
       "      <td>0.000140</td>\n",
       "      <td>0.236558</td>\n",
       "    </tr>\n",
       "    <tr>\n",
       "      <th>1</th>\n",
       "      <td>0</td>\n",
       "      <td>810</td>\n",
       "      <td>20000.0</td>\n",
       "      <td>0</td>\n",
       "      <td>0.512154</td>\n",
       "      <td>0</td>\n",
       "      <td>0</td>\n",
       "      <td>1</td>\n",
       "      <td>0</td>\n",
       "      <td>0.000558</td>\n",
       "      <td>0.080236</td>\n",
       "    </tr>\n",
       "    <tr>\n",
       "      <th>2</th>\n",
       "      <td>0</td>\n",
       "      <td>810</td>\n",
       "      <td>767.0</td>\n",
       "      <td>0</td>\n",
       "      <td>0.512154</td>\n",
       "      <td>0</td>\n",
       "      <td>0</td>\n",
       "      <td>0</td>\n",
       "      <td>0</td>\n",
       "      <td>0.000021</td>\n",
       "      <td>0.236558</td>\n",
       "    </tr>\n",
       "    <tr>\n",
       "      <th>3</th>\n",
       "      <td>0</td>\n",
       "      <td>810</td>\n",
       "      <td>2031.0</td>\n",
       "      <td>0</td>\n",
       "      <td>0.512154</td>\n",
       "      <td>1</td>\n",
       "      <td>0</td>\n",
       "      <td>0</td>\n",
       "      <td>0</td>\n",
       "      <td>0.000057</td>\n",
       "      <td>0.236558</td>\n",
       "    </tr>\n",
       "    <tr>\n",
       "      <th>4</th>\n",
       "      <td>0</td>\n",
       "      <td>810</td>\n",
       "      <td>36562.0</td>\n",
       "      <td>0</td>\n",
       "      <td>0.512154</td>\n",
       "      <td>0</td>\n",
       "      <td>0</td>\n",
       "      <td>0</td>\n",
       "      <td>0</td>\n",
       "      <td>0.001020</td>\n",
       "      <td>0.021102</td>\n",
       "    </tr>\n",
       "  </tbody>\n",
       "</table>\n",
       "</div>"
      ],
      "text/plain": [
       "   cl_id  currency   amount  target_flag  channel_type_new  MCC_new_5411  \\\n",
       "0      0       810   5023.0            0          0.512154             0   \n",
       "1      0       810  20000.0            0          0.512154             0   \n",
       "2      0       810    767.0            0          0.512154             0   \n",
       "3      0       810   2031.0            0          0.512154             1   \n",
       "4      0       810  36562.0            0          0.512154             0   \n",
       "\n",
       "   MCC_new_5812  MCC_new_6011  MCC_new_7011  amount_m  trx_category_new  \n",
       "0             0             0             0  0.000140          0.236558  \n",
       "1             0             1             0  0.000558          0.080236  \n",
       "2             0             0             0  0.000021          0.236558  \n",
       "3             0             0             0  0.000057          0.236558  \n",
       "4             0             0             0  0.001020          0.021102  "
      ]
     },
     "execution_count": 74,
     "metadata": {},
     "output_type": "execute_result"
    }
   ],
   "source": [
    "raw_df.drop('MCC_new_7000', axis=1, inplace = True)\n",
    "raw_df.head()"
   ]
  },
  {
   "cell_type": "code",
   "execution_count": 75,
   "metadata": {},
   "outputs": [
    {
     "data": {
      "text/html": [
       "<div>\n",
       "<style scoped>\n",
       "    .dataframe tbody tr th:only-of-type {\n",
       "        vertical-align: middle;\n",
       "    }\n",
       "\n",
       "    .dataframe tbody tr th {\n",
       "        vertical-align: top;\n",
       "    }\n",
       "\n",
       "    .dataframe thead th {\n",
       "        text-align: right;\n",
       "    }\n",
       "</style>\n",
       "<table border=\"1\" class=\"dataframe\">\n",
       "  <thead>\n",
       "    <tr style=\"text-align: right;\">\n",
       "      <th></th>\n",
       "      <th>Total</th>\n",
       "      <th>Percent</th>\n",
       "    </tr>\n",
       "  </thead>\n",
       "  <tbody>\n",
       "  </tbody>\n",
       "</table>\n",
       "</div>"
      ],
      "text/plain": [
       "Empty DataFrame\n",
       "Columns: [Total, Percent]\n",
       "Index: []"
      ]
     },
     "execution_count": 75,
     "metadata": {},
     "output_type": "execute_result"
    }
   ],
   "source": [
    "missingdata(raw_df)"
   ]
  },
  {
   "cell_type": "code",
   "execution_count": 76,
   "metadata": {},
   "outputs": [
    {
     "name": "stdout",
     "output_type": "stream",
     "text": [
      "Total transactions in train dataset:  395219\n",
      "Total transactions in test dataset:  95294\n"
     ]
    }
   ],
   "source": [
    "# create transactions dataset for train\n",
    "transactions_train = raw_df[~raw_df.cl_id.isin(cl_ids_test)].copy()\n",
    "print(\"Total transactions in train dataset: \", len(transactions_train))\n",
    "# create transactions dataset for test\n",
    "transactions_test = raw_df[raw_df.cl_id.isin(cl_ids_test)].copy()\n",
    "print(\"Total transactions in test dataset: \", len(transactions_test))"
   ]
  },
  {
   "cell_type": "code",
   "execution_count": 77,
   "metadata": {},
   "outputs": [
    {
     "data": {
      "text/html": [
       "<div>\n",
       "<style scoped>\n",
       "    .dataframe tbody tr th:only-of-type {\n",
       "        vertical-align: middle;\n",
       "    }\n",
       "\n",
       "    .dataframe tbody tr th {\n",
       "        vertical-align: top;\n",
       "    }\n",
       "\n",
       "    .dataframe thead th {\n",
       "        text-align: right;\n",
       "    }\n",
       "</style>\n",
       "<table border=\"1\" class=\"dataframe\">\n",
       "  <thead>\n",
       "    <tr style=\"text-align: right;\">\n",
       "      <th></th>\n",
       "      <th>cl_id</th>\n",
       "      <th>currency</th>\n",
       "      <th>amount</th>\n",
       "      <th>target_flag</th>\n",
       "      <th>channel_type_new</th>\n",
       "      <th>MCC_new_5411</th>\n",
       "      <th>MCC_new_5812</th>\n",
       "      <th>MCC_new_6011</th>\n",
       "      <th>MCC_new_7011</th>\n",
       "      <th>amount_m</th>\n",
       "      <th>trx_category_new</th>\n",
       "    </tr>\n",
       "  </thead>\n",
       "  <tbody>\n",
       "    <tr>\n",
       "      <th>0</th>\n",
       "      <td>0</td>\n",
       "      <td>810</td>\n",
       "      <td>5023.0</td>\n",
       "      <td>0</td>\n",
       "      <td>0.512154</td>\n",
       "      <td>0</td>\n",
       "      <td>0</td>\n",
       "      <td>0</td>\n",
       "      <td>0</td>\n",
       "      <td>0.000140</td>\n",
       "      <td>0.236558</td>\n",
       "    </tr>\n",
       "    <tr>\n",
       "      <th>1</th>\n",
       "      <td>0</td>\n",
       "      <td>810</td>\n",
       "      <td>20000.0</td>\n",
       "      <td>0</td>\n",
       "      <td>0.512154</td>\n",
       "      <td>0</td>\n",
       "      <td>0</td>\n",
       "      <td>1</td>\n",
       "      <td>0</td>\n",
       "      <td>0.000558</td>\n",
       "      <td>0.080236</td>\n",
       "    </tr>\n",
       "    <tr>\n",
       "      <th>2</th>\n",
       "      <td>0</td>\n",
       "      <td>810</td>\n",
       "      <td>767.0</td>\n",
       "      <td>0</td>\n",
       "      <td>0.512154</td>\n",
       "      <td>0</td>\n",
       "      <td>0</td>\n",
       "      <td>0</td>\n",
       "      <td>0</td>\n",
       "      <td>0.000021</td>\n",
       "      <td>0.236558</td>\n",
       "    </tr>\n",
       "    <tr>\n",
       "      <th>3</th>\n",
       "      <td>0</td>\n",
       "      <td>810</td>\n",
       "      <td>2031.0</td>\n",
       "      <td>0</td>\n",
       "      <td>0.512154</td>\n",
       "      <td>1</td>\n",
       "      <td>0</td>\n",
       "      <td>0</td>\n",
       "      <td>0</td>\n",
       "      <td>0.000057</td>\n",
       "      <td>0.236558</td>\n",
       "    </tr>\n",
       "    <tr>\n",
       "      <th>4</th>\n",
       "      <td>0</td>\n",
       "      <td>810</td>\n",
       "      <td>36562.0</td>\n",
       "      <td>0</td>\n",
       "      <td>0.512154</td>\n",
       "      <td>0</td>\n",
       "      <td>0</td>\n",
       "      <td>0</td>\n",
       "      <td>0</td>\n",
       "      <td>0.001020</td>\n",
       "      <td>0.021102</td>\n",
       "    </tr>\n",
       "  </tbody>\n",
       "</table>\n",
       "</div>"
      ],
      "text/plain": [
       "   cl_id  currency   amount  target_flag  channel_type_new  MCC_new_5411  \\\n",
       "0      0       810   5023.0            0          0.512154             0   \n",
       "1      0       810  20000.0            0          0.512154             0   \n",
       "2      0       810    767.0            0          0.512154             0   \n",
       "3      0       810   2031.0            0          0.512154             1   \n",
       "4      0       810  36562.0            0          0.512154             0   \n",
       "\n",
       "   MCC_new_5812  MCC_new_6011  MCC_new_7011  amount_m  trx_category_new  \n",
       "0             0             0             0  0.000140          0.236558  \n",
       "1             0             1             0  0.000558          0.080236  \n",
       "2             0             0             0  0.000021          0.236558  \n",
       "3             0             0             0  0.000057          0.236558  \n",
       "4             0             0             0  0.001020          0.021102  "
      ]
     },
     "execution_count": 77,
     "metadata": {},
     "output_type": "execute_result"
    }
   ],
   "source": [
    "transactions_train.head()"
   ]
  },
  {
   "cell_type": "code",
   "execution_count": 78,
   "metadata": {},
   "outputs": [],
   "source": [
    "train_columns = [\n",
    "            'amount_m',\n",
    "            'channel_type_new',\n",
    "            'MCC_new_5411',\n",
    "            'MCC_new_5812',\n",
    "            'MCC_new_6011',\n",
    "            'MCC_new_7011',\n",
    "            'trx_category_new',]\n",
    "    \n",
    "x_train = transactions_train[train_columns]\n",
    "y_train = transactions_train['target_flag']\n",
    "x_test = transactions_test[train_columns]\n",
    "y_test = transactions_test['target_flag']"
   ]
  },
  {
   "cell_type": "code",
   "execution_count": 79,
   "metadata": {},
   "outputs": [
    {
     "data": {
      "text/html": [
       "<div>\n",
       "<style scoped>\n",
       "    .dataframe tbody tr th:only-of-type {\n",
       "        vertical-align: middle;\n",
       "    }\n",
       "\n",
       "    .dataframe tbody tr th {\n",
       "        vertical-align: top;\n",
       "    }\n",
       "\n",
       "    .dataframe thead th {\n",
       "        text-align: right;\n",
       "    }\n",
       "</style>\n",
       "<table border=\"1\" class=\"dataframe\">\n",
       "  <thead>\n",
       "    <tr style=\"text-align: right;\">\n",
       "      <th></th>\n",
       "      <th>amount_m</th>\n",
       "      <th>channel_type_new</th>\n",
       "      <th>MCC_new_5411</th>\n",
       "      <th>MCC_new_5812</th>\n",
       "      <th>MCC_new_6011</th>\n",
       "      <th>MCC_new_7011</th>\n",
       "      <th>trx_category_new</th>\n",
       "    </tr>\n",
       "  </thead>\n",
       "  <tbody>\n",
       "    <tr>\n",
       "      <th>0</th>\n",
       "      <td>0.000140</td>\n",
       "      <td>0.512154</td>\n",
       "      <td>0</td>\n",
       "      <td>0</td>\n",
       "      <td>0</td>\n",
       "      <td>0</td>\n",
       "      <td>0.236558</td>\n",
       "    </tr>\n",
       "    <tr>\n",
       "      <th>1</th>\n",
       "      <td>0.000558</td>\n",
       "      <td>0.512154</td>\n",
       "      <td>0</td>\n",
       "      <td>0</td>\n",
       "      <td>1</td>\n",
       "      <td>0</td>\n",
       "      <td>0.080236</td>\n",
       "    </tr>\n",
       "    <tr>\n",
       "      <th>2</th>\n",
       "      <td>0.000021</td>\n",
       "      <td>0.512154</td>\n",
       "      <td>0</td>\n",
       "      <td>0</td>\n",
       "      <td>0</td>\n",
       "      <td>0</td>\n",
       "      <td>0.236558</td>\n",
       "    </tr>\n",
       "    <tr>\n",
       "      <th>3</th>\n",
       "      <td>0.000057</td>\n",
       "      <td>0.512154</td>\n",
       "      <td>1</td>\n",
       "      <td>0</td>\n",
       "      <td>0</td>\n",
       "      <td>0</td>\n",
       "      <td>0.236558</td>\n",
       "    </tr>\n",
       "    <tr>\n",
       "      <th>4</th>\n",
       "      <td>0.001020</td>\n",
       "      <td>0.512154</td>\n",
       "      <td>0</td>\n",
       "      <td>0</td>\n",
       "      <td>0</td>\n",
       "      <td>0</td>\n",
       "      <td>0.021102</td>\n",
       "    </tr>\n",
       "  </tbody>\n",
       "</table>\n",
       "</div>"
      ],
      "text/plain": [
       "   amount_m  channel_type_new  MCC_new_5411  MCC_new_5812  MCC_new_6011  \\\n",
       "0  0.000140          0.512154             0             0             0   \n",
       "1  0.000558          0.512154             0             0             1   \n",
       "2  0.000021          0.512154             0             0             0   \n",
       "3  0.000057          0.512154             1             0             0   \n",
       "4  0.001020          0.512154             0             0             0   \n",
       "\n",
       "   MCC_new_7011  trx_category_new  \n",
       "0             0          0.236558  \n",
       "1             0          0.080236  \n",
       "2             0          0.236558  \n",
       "3             0          0.236558  \n",
       "4             0          0.021102  "
      ]
     },
     "execution_count": 79,
     "metadata": {},
     "output_type": "execute_result"
    }
   ],
   "source": [
    "x_train.head()"
   ]
  },
  {
   "cell_type": "code",
   "execution_count": 80,
   "metadata": {},
   "outputs": [
    {
     "name": "stdout",
     "output_type": "stream",
     "text": [
      "Train:  0.75\n",
      "Test:  0.71\n"
     ]
    }
   ],
   "source": [
    "xgb = xgboost.XGBClassifier(max_depth=10, n_jobs=-1)\n",
    "\n",
    "xgb.fit(x_train, y_train)\n",
    "y_train_predict = xgb.predict_proba(x_train)[:, 1]\n",
    "y_test_predict = xgb.predict_proba(x_test)[:, 1]\n",
    "roc_auc_train = np.round(roc_auc_score(y_train, y_train_predict), 2)\n",
    "roc_auc_test = np.round(roc_auc_score(y_test, y_test_predict), 2)\n",
    "print(\"Train: \", roc_auc_train)\n",
    "print(\"Test: \", roc_auc_test)"
   ]
  },
  {
   "cell_type": "code",
   "execution_count": 81,
   "metadata": {},
   "outputs": [
    {
     "data": {
      "image/png": "[encoded data removed]",
      "text/plain": [
       "<Figure size 720x720 with 1 Axes>"
      ]
     },
     "metadata": {
      "needs_background": "light"
     },
     "output_type": "display_data"
    }
   ],
   "source": [
    "fpr_train, tpr_train, thresholds_train = roc_curve(y_train, y_train_predict)\n",
    "fpr_test, tpr_test, thresholds_test = roc_curve(y_test, y_test_predict)\n",
    "\n",
    "plt.rcParams['figure.figsize'] = (10.0, 10.0)\n",
    "plt.plot(fpr_train, tpr_train, label='Train ROC AUC {0}'.format(roc_auc_train))\n",
    "plt.plot(fpr_test, tpr_test, label='Test ROC AUC {0}'.format(roc_auc_test))\n",
    "plt.plot([0, 1], [0, 1], '--', color=(0.6, 0.6, 0.6))\n",
    "plt.xlim([0, 1])\n",
    "plt.ylim([0, 1])\n",
    "plt.xlabel('False Positive Rate')\n",
    "plt.ylabel('True Positive Rate')\n",
    "plt.title('XGB Classifier', size=16)\n",
    "plt.legend(loc='lower right')\n",
    "plt.show()"
   ]
  },
  {
   "cell_type": "code",
   "execution_count": 82,
   "metadata": {},
   "outputs": [
    {
     "data": {
      "image/png": "[encoded data removed]",
      "text/plain": [
       "<Figure size 720x720 with 1 Axes>"
      ]
     },
     "metadata": {
      "needs_background": "light"
     },
     "output_type": "display_data"
    }
   ],
   "source": [
    "plt.rcParams['figure.figsize'] = (10, 10)\n",
    "xgboost.plot_importance(booster=xgb)\n",
    "plt.savefig('tree_importance_test1.png')"
   ]
  },
  {
   "cell_type": "code",
   "execution_count": null,
   "metadata": {},
   "outputs": [],
   "source": []
  }
 ],
 "metadata": {
  "kernelspec": {
   "display_name": "Python 3",
   "language": "python",
   "name": "python3"
  },
  "language_info": {
   "codemirror_mode": {
    "name": "ipython",
    "version": 3
   },
   "file_extension": ".py",
   "mimetype": "text/x-python",
   "name": "python",
   "nbconvert_exporter": "python",
   "pygments_lexer": "ipython3",
   "version": "3.7.1"
  }
 },
 "nbformat": 4,
 "nbformat_minor": 2
}
